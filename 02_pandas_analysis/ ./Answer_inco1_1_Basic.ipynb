{
 "cells": [
  {
   "cell_type": "markdown",
   "metadata": {},
   "source": [
    "# 데이터 프레임 기초"
   ]
  },
  {
   "cell_type": "markdown",
   "metadata": {},
   "source": [
    "****"
   ]
  },
  {
   "cell_type": "markdown",
   "metadata": {},
   "source": [
    "**발표자**  \n",
    "DSC 박소희\n",
    "\n",
    "**내용**  \n",
    "1. Pandas 데이터 프레임 생성\n",
    "2. 데이터 저장\n",
    "3. 데이터 불러오기\n",
    "4. 변수 접근\n",
    "5. 데이터 변환\n",
    "\n",
    "**데이터 셋**  \n",
    "lapis_korea.csv"
   ]
  },
  {
   "cell_type": "code",
   "execution_count": 1,
   "metadata": {
    "tags": []
   },
   "outputs": [
    {
     "data": {
      "text/plain": [
       "'1.5.3'"
      ]
     },
     "execution_count": 1,
     "metadata": {},
     "output_type": "execute_result"
    }
   ],
   "source": [
    "import pandas as pd\n",
    "pd.__version__"
   ]
  },
  {
   "cell_type": "markdown",
   "metadata": {},
   "source": [
    "# 데이터 생성"
   ]
  },
  {
   "cell_type": "markdown",
   "metadata": {},
   "source": [
    "****"
   ]
  },
  {
   "cell_type": "markdown",
   "metadata": {},
   "source": [
    "```python\n",
    "pd.DataFrame(data=None, index=None, columns=None, dtype=None, copy=None)\n",
    "\n",
    "```\n",
    "\n",
    "|이름|생년월일|나이|MBTI|\n",
    "|:--:|:--:|:--:|:--:|\n",
    "|소희|1995-12-20|28|ENFP|\n",
    "|영수|2001-06-10|22|ISTP|\n"
   ]
  },
  {
   "cell_type": "markdown",
   "metadata": {},
   "source": [
    "**1. 정보를 위와 같은 테이블을 본인 정보와 오른쪽 친구의 정보를 사용하여 생성해봅시다.**  \n",
    "* Hint: Dictionary 형태로 만들어 team이라는 변수에 저장 후 출력해보세요."
   ]
  },
  {
   "cell_type": "code",
   "execution_count": 10,
   "metadata": {},
   "outputs": [],
   "source": [
    "# 아래에 코드를 수정 후 실행해 보세요\n",
    "team={'이름':['name1','name2'],\n",
    "      '생년월일':['0000-00-00','0000-00-00'],\n",
    "      '나이':[00, 00],\n",
    "      'MBTI':['MBTI1','MBTI2']}"
   ]
  },
  {
   "cell_type": "code",
   "execution_count": 11,
   "metadata": {},
   "outputs": [
    {
     "data": {
      "text/plain": [
       "{'이름': ['name1', 'name2'],\n",
       " '생년월일': ['0000-00-00', '0000-00-00'],\n",
       " '나이': [0, 0],\n",
       " 'MBTI': ['MBTI1', 'MBTI2']}"
      ]
     },
     "execution_count": 11,
     "metadata": {},
     "output_type": "execute_result"
    }
   ],
   "source": [
    "# team 변수를 아래에 출력해보세요\n",
    "team"
   ]
  },
  {
   "cell_type": "markdown",
   "metadata": {},
   "source": [
    "**2. team 변수를 데이터프레임으로 만든 후 team_df 변수로 저장하여 출력하시오.**  \n",
    "* Hint: pd.DataFrame을 활용해봅시다."
   ]
  },
  {
   "cell_type": "code",
   "execution_count": null,
   "metadata": {},
   "outputs": [],
   "source": [
    "# 아래에 코드를 작성 후 실행해 보세요\n",
    "team_df = pd.DataFrame(team)\n",
    "team_df"
   ]
  },
  {
   "cell_type": "markdown",
   "metadata": {},
   "source": [
    "**3. team_df 변수에 학생1, 학생2라는 인덱스를 추가해주세요.**  \n",
    "* Hint: pd.DataFrame의 index 옵션을 활용해봅시다."
   ]
  },
  {
   "cell_type": "code",
   "execution_count": null,
   "metadata": {},
   "outputs": [],
   "source": [
    "# team이라는 Dictionary 변수에 학생1, 학생2라는 인덱스를 추가하여 데이터프레임으로 만들어주세요\n",
    "pd.DataFrame(team, index=['index1','index2'])"
   ]
  },
  {
   "cell_type": "markdown",
   "metadata": {
    "jp-MarkdownHeadingCollapsed": true,
    "tags": []
   },
   "source": [
    "### Answer"
   ]
  },
  {
   "cell_type": "code",
   "execution_count": 26,
   "metadata": {},
   "outputs": [
    {
     "data": {
      "text/plain": [
       "{'이름': ['소희', '영수'],\n",
       " '생년월일': ['1995-12-20', '2001-06-10'],\n",
       " '나이': [28, 22],\n",
       " 'MBTI': ['ENFP', 'ISTP']}"
      ]
     },
     "execution_count": 26,
     "metadata": {},
     "output_type": "execute_result"
    }
   ],
   "source": [
    "# Example code (1)\n",
    "team = {'이름':['소희','영수'], \n",
    "        '생년월일':['1995-12-20','2001-06-10'],\n",
    "        '나이':[28, 22],\n",
    "        'MBTI':['ENFP','ISTP']}\n",
    "team"
   ]
  },
  {
   "cell_type": "code",
   "execution_count": 27,
   "metadata": {},
   "outputs": [
    {
     "data": {
      "text/html": [
       "<div>\n",
       "<style scoped>\n",
       "    .dataframe tbody tr th:only-of-type {\n",
       "        vertical-align: middle;\n",
       "    }\n",
       "\n",
       "    .dataframe tbody tr th {\n",
       "        vertical-align: top;\n",
       "    }\n",
       "\n",
       "    .dataframe thead th {\n",
       "        text-align: right;\n",
       "    }\n",
       "</style>\n",
       "<table border=\"1\" class=\"dataframe\">\n",
       "  <thead>\n",
       "    <tr style=\"text-align: right;\">\n",
       "      <th></th>\n",
       "      <th>이름</th>\n",
       "      <th>생년월일</th>\n",
       "      <th>나이</th>\n",
       "      <th>MBTI</th>\n",
       "    </tr>\n",
       "  </thead>\n",
       "  <tbody>\n",
       "    <tr>\n",
       "      <th>0</th>\n",
       "      <td>소희</td>\n",
       "      <td>1995-12-20</td>\n",
       "      <td>28</td>\n",
       "      <td>ENFP</td>\n",
       "    </tr>\n",
       "    <tr>\n",
       "      <th>1</th>\n",
       "      <td>영수</td>\n",
       "      <td>2001-06-10</td>\n",
       "      <td>22</td>\n",
       "      <td>ISTP</td>\n",
       "    </tr>\n",
       "  </tbody>\n",
       "</table>\n",
       "</div>"
      ],
      "text/plain": [
       "   이름        생년월일  나이  MBTI\n",
       "0  소희  1995-12-20  28  ENFP\n",
       "1  영수  2001-06-10  22  ISTP"
      ]
     },
     "execution_count": 27,
     "metadata": {},
     "output_type": "execute_result"
    }
   ],
   "source": [
    "# Example code (2)\n",
    "team_df = pd.DataFrame(team)\n",
    "team_df"
   ]
  },
  {
   "cell_type": "code",
   "execution_count": 30,
   "metadata": {},
   "outputs": [
    {
     "data": {
      "text/html": [
       "<div>\n",
       "<style scoped>\n",
       "    .dataframe tbody tr th:only-of-type {\n",
       "        vertical-align: middle;\n",
       "    }\n",
       "\n",
       "    .dataframe tbody tr th {\n",
       "        vertical-align: top;\n",
       "    }\n",
       "\n",
       "    .dataframe thead th {\n",
       "        text-align: right;\n",
       "    }\n",
       "</style>\n",
       "<table border=\"1\" class=\"dataframe\">\n",
       "  <thead>\n",
       "    <tr style=\"text-align: right;\">\n",
       "      <th></th>\n",
       "      <th>이름</th>\n",
       "      <th>생년월일</th>\n",
       "      <th>나이</th>\n",
       "      <th>MBTI</th>\n",
       "    </tr>\n",
       "  </thead>\n",
       "  <tbody>\n",
       "    <tr>\n",
       "      <th>학생1</th>\n",
       "      <td>소희</td>\n",
       "      <td>1995-12-20</td>\n",
       "      <td>28</td>\n",
       "      <td>ENFP</td>\n",
       "    </tr>\n",
       "    <tr>\n",
       "      <th>학생2</th>\n",
       "      <td>영수</td>\n",
       "      <td>2001-06-10</td>\n",
       "      <td>22</td>\n",
       "      <td>ISTP</td>\n",
       "    </tr>\n",
       "  </tbody>\n",
       "</table>\n",
       "</div>"
      ],
      "text/plain": [
       "     이름        생년월일  나이  MBTI\n",
       "학생1  소희  1995-12-20  28  ENFP\n",
       "학생2  영수  2001-06-10  22  ISTP"
      ]
     },
     "execution_count": 30,
     "metadata": {},
     "output_type": "execute_result"
    }
   ],
   "source": [
    "# Example code (3)\n",
    "pd.DataFrame(team, index=['학생1','학생2'])"
   ]
  },
  {
   "cell_type": "markdown",
   "metadata": {},
   "source": [
    "# 데이터 저장"
   ]
  },
  {
   "cell_type": "markdown",
   "metadata": {},
   "source": [
    "****"
   ]
  },
  {
   "cell_type": "markdown",
   "metadata": {},
   "source": [
    "**1. team_df를 csv 형태로 저장해봅시다.**\n",
    "* Hint: to_csv, to_excel, to_json를 활용해봅시다."
   ]
  },
  {
   "cell_type": "code",
   "execution_count": 34,
   "metadata": {},
   "outputs": [],
   "source": [
    "# 아래에 코드를 작성 후 실행해 보세요\n",
    "team_df.to_csv('/set_your_path/set_file_name.csv')"
   ]
  },
  {
   "cell_type": "markdown",
   "metadata": {},
   "source": [
    "**2. csv 파일을 열어보세요. 한글이 깨지나요?**\n",
    "* Hint: pd.DataFrame의 옵션인 encoding을 CP949 또는 UTF-8로 지정해보세요"
   ]
  },
  {
   "cell_type": "code",
   "execution_count": 11,
   "metadata": {},
   "outputs": [],
   "source": [
    "# 아래에 코드를 작성 후 실행해 보세요\n"
   ]
  },
  {
   "cell_type": "markdown",
   "metadata": {
    "jp-MarkdownHeadingCollapsed": true,
    "tags": []
   },
   "source": [
    "### Answer"
   ]
  },
  {
   "cell_type": "code",
   "execution_count": 35,
   "metadata": {},
   "outputs": [],
   "source": [
    "# Example code\n",
    "team_df.to_csv('test.csv')"
   ]
  },
  {
   "cell_type": "code",
   "execution_count": 37,
   "metadata": {},
   "outputs": [],
   "source": [
    "team_df.to_csv('test.csv', encoding='CP949', index=False)"
   ]
  },
  {
   "cell_type": "markdown",
   "metadata": {},
   "source": [
    "# 데이터 불러오기"
   ]
  },
  {
   "cell_type": "markdown",
   "metadata": {},
   "source": [
    "****"
   ]
  },
  {
   "cell_type": "markdown",
   "metadata": {},
   "source": [
    "|pandas 함수|설명|\n",
    "|:--:|:--:|\n",
    "|read_csv()|쉼표(,)로 구분된 파일을 읽습니다.|\n",
    "|read_excel()|Excel 파일을 읽습니다.|\n",
    "|read_table()|탭(\\t)으로 구분된 파일을 읽습니다.|\n",
    "|read_fwf()|구분자가 없는 파일을 읽습니다.|"
   ]
  },
  {
   "cell_type": "markdown",
   "metadata": {},
   "source": [
    "**1. 로컬에 저장된 lapis_korea.csv 파일을 불러온 후, 행 5개만 출력해보세요.**  "
   ]
  },
  {
   "cell_type": "code",
   "execution_count": null,
   "metadata": {},
   "outputs": [],
   "source": [
    "# 아래에 코드를 작성 후 실행해 보세요\n"
   ]
  },
  {
   "cell_type": "markdown",
   "metadata": {},
   "source": [
    "**2. 첫 번째 열로 지정된 csv파일에서의 index를 DataFrame에서 index로 지정해보세요.**\n",
    "* Hint: index_col로 컬럼번호를 지정해보세요"
   ]
  },
  {
   "cell_type": "code",
   "execution_count": null,
   "metadata": {},
   "outputs": [],
   "source": [
    "# 아래에 코드를 작성 후 실행해 보세요\n"
   ]
  },
  {
   "cell_type": "markdown",
   "metadata": {
    "jp-MarkdownHeadingCollapsed": true,
    "tags": []
   },
   "source": [
    "### Answer"
   ]
  },
  {
   "cell_type": "code",
   "execution_count": 40,
   "metadata": {},
   "outputs": [
    {
     "data": {
      "text/html": [
       "<div>\n",
       "<style scoped>\n",
       "    .dataframe tbody tr th:only-of-type {\n",
       "        vertical-align: middle;\n",
       "    }\n",
       "\n",
       "    .dataframe tbody tr th {\n",
       "        vertical-align: top;\n",
       "    }\n",
       "\n",
       "    .dataframe thead th {\n",
       "        text-align: right;\n",
       "    }\n",
       "</style>\n",
       "<table border=\"1\" class=\"dataframe\">\n",
       "  <thead>\n",
       "    <tr style=\"text-align: right;\">\n",
       "      <th></th>\n",
       "      <th>Unnamed: 0</th>\n",
       "      <th>date</th>\n",
       "      <th>dateSubmitted</th>\n",
       "      <th>region</th>\n",
       "      <th>country</th>\n",
       "      <th>division</th>\n",
       "      <th>location</th>\n",
       "      <th>regionExposure</th>\n",
       "      <th>countryExposure</th>\n",
       "      <th>divisionExposure</th>\n",
       "      <th>...</th>\n",
       "      <th>sex</th>\n",
       "      <th>host</th>\n",
       "      <th>samplingStrategy</th>\n",
       "      <th>pangoLineage</th>\n",
       "      <th>nextcladePangoLineage</th>\n",
       "      <th>nextstrainClade</th>\n",
       "      <th>gisaidClade</th>\n",
       "      <th>submittingLab</th>\n",
       "      <th>originatingLab</th>\n",
       "      <th>count</th>\n",
       "    </tr>\n",
       "  </thead>\n",
       "  <tbody>\n",
       "    <tr>\n",
       "      <th>0</th>\n",
       "      <td>0</td>\n",
       "      <td>2022-06-29</td>\n",
       "      <td>2022-12-28</td>\n",
       "      <td>Asia</td>\n",
       "      <td>South Korea</td>\n",
       "      <td>South Korea</td>\n",
       "      <td>NaN</td>\n",
       "      <td>Asia</td>\n",
       "      <td>South Korea</td>\n",
       "      <td>South Korea</td>\n",
       "      <td>...</td>\n",
       "      <td>NaN</td>\n",
       "      <td>NaN</td>\n",
       "      <td>NaN</td>\n",
       "      <td>BA.5.2</td>\n",
       "      <td>BA.5.2</td>\n",
       "      <td>22B</td>\n",
       "      <td>NaN</td>\n",
       "      <td>Jeollabukdo Institute of Health and Environmen...</td>\n",
       "      <td>NaN</td>\n",
       "      <td>1</td>\n",
       "    </tr>\n",
       "    <tr>\n",
       "      <th>1</th>\n",
       "      <td>1</td>\n",
       "      <td>2022-04-13</td>\n",
       "      <td>2022-11-14</td>\n",
       "      <td>Asia</td>\n",
       "      <td>South Korea</td>\n",
       "      <td>South Korea</td>\n",
       "      <td>NaN</td>\n",
       "      <td>Asia</td>\n",
       "      <td>South Korea</td>\n",
       "      <td>South Korea</td>\n",
       "      <td>...</td>\n",
       "      <td>NaN</td>\n",
       "      <td>Homo sapiens</td>\n",
       "      <td>NaN</td>\n",
       "      <td>BA.2.3</td>\n",
       "      <td>BA.2.3.8</td>\n",
       "      <td>21L</td>\n",
       "      <td>NaN</td>\n",
       "      <td>Kangdong Sacred Heart Hospital, Hallym Univers...</td>\n",
       "      <td>NaN</td>\n",
       "      <td>1</td>\n",
       "    </tr>\n",
       "    <tr>\n",
       "      <th>2</th>\n",
       "      <td>2</td>\n",
       "      <td>2022-04-16</td>\n",
       "      <td>2022-12-28</td>\n",
       "      <td>Asia</td>\n",
       "      <td>South Korea</td>\n",
       "      <td>South Korea</td>\n",
       "      <td>NaN</td>\n",
       "      <td>Asia</td>\n",
       "      <td>South Korea</td>\n",
       "      <td>South Korea</td>\n",
       "      <td>...</td>\n",
       "      <td>NaN</td>\n",
       "      <td>NaN</td>\n",
       "      <td>NaN</td>\n",
       "      <td>BA.2.3</td>\n",
       "      <td>BA.2.3</td>\n",
       "      <td>21L</td>\n",
       "      <td>NaN</td>\n",
       "      <td>Jeollabukdo Institute of Health and Environmen...</td>\n",
       "      <td>NaN</td>\n",
       "      <td>1</td>\n",
       "    </tr>\n",
       "    <tr>\n",
       "      <th>3</th>\n",
       "      <td>3</td>\n",
       "      <td>2022-04-20</td>\n",
       "      <td>2022-11-14</td>\n",
       "      <td>Asia</td>\n",
       "      <td>South Korea</td>\n",
       "      <td>South Korea</td>\n",
       "      <td>NaN</td>\n",
       "      <td>Asia</td>\n",
       "      <td>South Korea</td>\n",
       "      <td>South Korea</td>\n",
       "      <td>...</td>\n",
       "      <td>NaN</td>\n",
       "      <td>Homo sapiens</td>\n",
       "      <td>NaN</td>\n",
       "      <td>BA.2</td>\n",
       "      <td>BA.2</td>\n",
       "      <td>21L</td>\n",
       "      <td>NaN</td>\n",
       "      <td>Kangdong Sacred Heart Hospital, Hallym Univers...</td>\n",
       "      <td>NaN</td>\n",
       "      <td>3</td>\n",
       "    </tr>\n",
       "    <tr>\n",
       "      <th>4</th>\n",
       "      <td>4</td>\n",
       "      <td>2022-03-10</td>\n",
       "      <td>2022-11-14</td>\n",
       "      <td>Asia</td>\n",
       "      <td>South Korea</td>\n",
       "      <td>South Korea</td>\n",
       "      <td>NaN</td>\n",
       "      <td>Asia</td>\n",
       "      <td>South Korea</td>\n",
       "      <td>South Korea</td>\n",
       "      <td>...</td>\n",
       "      <td>NaN</td>\n",
       "      <td>Homo sapiens</td>\n",
       "      <td>NaN</td>\n",
       "      <td>BA.2.3</td>\n",
       "      <td>BA.2.3</td>\n",
       "      <td>21L</td>\n",
       "      <td>NaN</td>\n",
       "      <td>Kangdong Sacred Heart Hospital, Hallym Univers...</td>\n",
       "      <td>NaN</td>\n",
       "      <td>2</td>\n",
       "    </tr>\n",
       "  </tbody>\n",
       "</table>\n",
       "<p>5 rows × 21 columns</p>\n",
       "</div>"
      ],
      "text/plain": [
       "   Unnamed: 0        date dateSubmitted region      country     division  \\\n",
       "0           0  2022-06-29    2022-12-28   Asia  South Korea  South Korea   \n",
       "1           1  2022-04-13    2022-11-14   Asia  South Korea  South Korea   \n",
       "2           2  2022-04-16    2022-12-28   Asia  South Korea  South Korea   \n",
       "3           3  2022-04-20    2022-11-14   Asia  South Korea  South Korea   \n",
       "4           4  2022-03-10    2022-11-14   Asia  South Korea  South Korea   \n",
       "\n",
       "   location regionExposure countryExposure divisionExposure  ...  sex  \\\n",
       "0       NaN           Asia     South Korea      South Korea  ...  NaN   \n",
       "1       NaN           Asia     South Korea      South Korea  ...  NaN   \n",
       "2       NaN           Asia     South Korea      South Korea  ...  NaN   \n",
       "3       NaN           Asia     South Korea      South Korea  ...  NaN   \n",
       "4       NaN           Asia     South Korea      South Korea  ...  NaN   \n",
       "\n",
       "           host samplingStrategy  pangoLineage nextcladePangoLineage  \\\n",
       "0           NaN              NaN        BA.5.2                BA.5.2   \n",
       "1  Homo sapiens              NaN        BA.2.3              BA.2.3.8   \n",
       "2           NaN              NaN        BA.2.3                BA.2.3   \n",
       "3  Homo sapiens              NaN          BA.2                  BA.2   \n",
       "4  Homo sapiens              NaN        BA.2.3                BA.2.3   \n",
       "\n",
       "  nextstrainClade gisaidClade  \\\n",
       "0             22B         NaN   \n",
       "1             21L         NaN   \n",
       "2             21L         NaN   \n",
       "3             21L         NaN   \n",
       "4             21L         NaN   \n",
       "\n",
       "                                       submittingLab originatingLab  count  \n",
       "0  Jeollabukdo Institute of Health and Environmen...            NaN      1  \n",
       "1  Kangdong Sacred Heart Hospital, Hallym Univers...            NaN      1  \n",
       "2  Jeollabukdo Institute of Health and Environmen...            NaN      1  \n",
       "3  Kangdong Sacred Heart Hospital, Hallym Univers...            NaN      3  \n",
       "4  Kangdong Sacred Heart Hospital, Hallym Univers...            NaN      2  \n",
       "\n",
       "[5 rows x 21 columns]"
      ]
     },
     "execution_count": 40,
     "metadata": {},
     "output_type": "execute_result"
    }
   ],
   "source": [
    "# Example code (1)\n",
    "df = pd.read_csv('./datafile/lapis_korea.csv')\n",
    "df.head()"
   ]
  },
  {
   "cell_type": "code",
   "execution_count": 44,
   "metadata": {},
   "outputs": [
    {
     "data": {
      "text/html": [
       "<div>\n",
       "<style scoped>\n",
       "    .dataframe tbody tr th:only-of-type {\n",
       "        vertical-align: middle;\n",
       "    }\n",
       "\n",
       "    .dataframe tbody tr th {\n",
       "        vertical-align: top;\n",
       "    }\n",
       "\n",
       "    .dataframe thead th {\n",
       "        text-align: right;\n",
       "    }\n",
       "</style>\n",
       "<table border=\"1\" class=\"dataframe\">\n",
       "  <thead>\n",
       "    <tr style=\"text-align: right;\">\n",
       "      <th></th>\n",
       "      <th>date</th>\n",
       "      <th>dateSubmitted</th>\n",
       "      <th>region</th>\n",
       "      <th>country</th>\n",
       "      <th>division</th>\n",
       "      <th>location</th>\n",
       "      <th>regionExposure</th>\n",
       "      <th>countryExposure</th>\n",
       "      <th>divisionExposure</th>\n",
       "      <th>age</th>\n",
       "      <th>sex</th>\n",
       "      <th>host</th>\n",
       "      <th>samplingStrategy</th>\n",
       "      <th>pangoLineage</th>\n",
       "      <th>nextcladePangoLineage</th>\n",
       "      <th>nextstrainClade</th>\n",
       "      <th>gisaidClade</th>\n",
       "      <th>submittingLab</th>\n",
       "      <th>originatingLab</th>\n",
       "      <th>count</th>\n",
       "    </tr>\n",
       "  </thead>\n",
       "  <tbody>\n",
       "    <tr>\n",
       "      <th>0</th>\n",
       "      <td>2022-06-29</td>\n",
       "      <td>2022-12-28</td>\n",
       "      <td>Asia</td>\n",
       "      <td>South Korea</td>\n",
       "      <td>South Korea</td>\n",
       "      <td>NaN</td>\n",
       "      <td>Asia</td>\n",
       "      <td>South Korea</td>\n",
       "      <td>South Korea</td>\n",
       "      <td>NaN</td>\n",
       "      <td>NaN</td>\n",
       "      <td>NaN</td>\n",
       "      <td>NaN</td>\n",
       "      <td>BA.5.2</td>\n",
       "      <td>BA.5.2</td>\n",
       "      <td>22B</td>\n",
       "      <td>NaN</td>\n",
       "      <td>Jeollabukdo Institute of Health and Environmen...</td>\n",
       "      <td>NaN</td>\n",
       "      <td>1</td>\n",
       "    </tr>\n",
       "    <tr>\n",
       "      <th>1</th>\n",
       "      <td>2022-04-13</td>\n",
       "      <td>2022-11-14</td>\n",
       "      <td>Asia</td>\n",
       "      <td>South Korea</td>\n",
       "      <td>South Korea</td>\n",
       "      <td>NaN</td>\n",
       "      <td>Asia</td>\n",
       "      <td>South Korea</td>\n",
       "      <td>South Korea</td>\n",
       "      <td>NaN</td>\n",
       "      <td>NaN</td>\n",
       "      <td>Homo sapiens</td>\n",
       "      <td>NaN</td>\n",
       "      <td>BA.2.3</td>\n",
       "      <td>BA.2.3.8</td>\n",
       "      <td>21L</td>\n",
       "      <td>NaN</td>\n",
       "      <td>Kangdong Sacred Heart Hospital, Hallym Univers...</td>\n",
       "      <td>NaN</td>\n",
       "      <td>1</td>\n",
       "    </tr>\n",
       "    <tr>\n",
       "      <th>2</th>\n",
       "      <td>2022-04-16</td>\n",
       "      <td>2022-12-28</td>\n",
       "      <td>Asia</td>\n",
       "      <td>South Korea</td>\n",
       "      <td>South Korea</td>\n",
       "      <td>NaN</td>\n",
       "      <td>Asia</td>\n",
       "      <td>South Korea</td>\n",
       "      <td>South Korea</td>\n",
       "      <td>NaN</td>\n",
       "      <td>NaN</td>\n",
       "      <td>NaN</td>\n",
       "      <td>NaN</td>\n",
       "      <td>BA.2.3</td>\n",
       "      <td>BA.2.3</td>\n",
       "      <td>21L</td>\n",
       "      <td>NaN</td>\n",
       "      <td>Jeollabukdo Institute of Health and Environmen...</td>\n",
       "      <td>NaN</td>\n",
       "      <td>1</td>\n",
       "    </tr>\n",
       "    <tr>\n",
       "      <th>3</th>\n",
       "      <td>2022-04-20</td>\n",
       "      <td>2022-11-14</td>\n",
       "      <td>Asia</td>\n",
       "      <td>South Korea</td>\n",
       "      <td>South Korea</td>\n",
       "      <td>NaN</td>\n",
       "      <td>Asia</td>\n",
       "      <td>South Korea</td>\n",
       "      <td>South Korea</td>\n",
       "      <td>NaN</td>\n",
       "      <td>NaN</td>\n",
       "      <td>Homo sapiens</td>\n",
       "      <td>NaN</td>\n",
       "      <td>BA.2</td>\n",
       "      <td>BA.2</td>\n",
       "      <td>21L</td>\n",
       "      <td>NaN</td>\n",
       "      <td>Kangdong Sacred Heart Hospital, Hallym Univers...</td>\n",
       "      <td>NaN</td>\n",
       "      <td>3</td>\n",
       "    </tr>\n",
       "    <tr>\n",
       "      <th>4</th>\n",
       "      <td>2022-03-10</td>\n",
       "      <td>2022-11-14</td>\n",
       "      <td>Asia</td>\n",
       "      <td>South Korea</td>\n",
       "      <td>South Korea</td>\n",
       "      <td>NaN</td>\n",
       "      <td>Asia</td>\n",
       "      <td>South Korea</td>\n",
       "      <td>South Korea</td>\n",
       "      <td>NaN</td>\n",
       "      <td>NaN</td>\n",
       "      <td>Homo sapiens</td>\n",
       "      <td>NaN</td>\n",
       "      <td>BA.2.3</td>\n",
       "      <td>BA.2.3</td>\n",
       "      <td>21L</td>\n",
       "      <td>NaN</td>\n",
       "      <td>Kangdong Sacred Heart Hospital, Hallym Univers...</td>\n",
       "      <td>NaN</td>\n",
       "      <td>2</td>\n",
       "    </tr>\n",
       "  </tbody>\n",
       "</table>\n",
       "</div>"
      ],
      "text/plain": [
       "         date dateSubmitted region      country     division  location  \\\n",
       "0  2022-06-29    2022-12-28   Asia  South Korea  South Korea       NaN   \n",
       "1  2022-04-13    2022-11-14   Asia  South Korea  South Korea       NaN   \n",
       "2  2022-04-16    2022-12-28   Asia  South Korea  South Korea       NaN   \n",
       "3  2022-04-20    2022-11-14   Asia  South Korea  South Korea       NaN   \n",
       "4  2022-03-10    2022-11-14   Asia  South Korea  South Korea       NaN   \n",
       "\n",
       "  regionExposure countryExposure divisionExposure  age  sex          host  \\\n",
       "0           Asia     South Korea      South Korea  NaN  NaN           NaN   \n",
       "1           Asia     South Korea      South Korea  NaN  NaN  Homo sapiens   \n",
       "2           Asia     South Korea      South Korea  NaN  NaN           NaN   \n",
       "3           Asia     South Korea      South Korea  NaN  NaN  Homo sapiens   \n",
       "4           Asia     South Korea      South Korea  NaN  NaN  Homo sapiens   \n",
       "\n",
       "   samplingStrategy pangoLineage nextcladePangoLineage nextstrainClade  \\\n",
       "0               NaN       BA.5.2                BA.5.2             22B   \n",
       "1               NaN       BA.2.3              BA.2.3.8             21L   \n",
       "2               NaN       BA.2.3                BA.2.3             21L   \n",
       "3               NaN         BA.2                  BA.2             21L   \n",
       "4               NaN       BA.2.3                BA.2.3             21L   \n",
       "\n",
       "   gisaidClade                                      submittingLab  \\\n",
       "0          NaN  Jeollabukdo Institute of Health and Environmen...   \n",
       "1          NaN  Kangdong Sacred Heart Hospital, Hallym Univers...   \n",
       "2          NaN  Jeollabukdo Institute of Health and Environmen...   \n",
       "3          NaN  Kangdong Sacred Heart Hospital, Hallym Univers...   \n",
       "4          NaN  Kangdong Sacred Heart Hospital, Hallym Univers...   \n",
       "\n",
       "   originatingLab  count  \n",
       "0             NaN      1  \n",
       "1             NaN      1  \n",
       "2             NaN      1  \n",
       "3             NaN      3  \n",
       "4             NaN      2  "
      ]
     },
     "execution_count": 44,
     "metadata": {},
     "output_type": "execute_result"
    }
   ],
   "source": [
    "# Example code (2)\n",
    "df = pd.read_csv('./datafile/lapis_korea.csv', index_col=0)\n",
    "df.head()"
   ]
  },
  {
   "cell_type": "markdown",
   "metadata": {
    "tags": []
   },
   "source": [
    "# 변수 접근"
   ]
  },
  {
   "cell_type": "markdown",
   "metadata": {},
   "source": [
    "****"
   ]
  },
  {
   "cell_type": "markdown",
   "metadata": {},
   "source": [
    "|접근법|예시 코드|\n",
    "|:--:|:--:|\n",
    "|데이터 형태 확인|df.shape|\n",
    "|변수명 확인|df.columns|\n",
    "|변수열 선택|df.col_names 또는df['col_names']|\n",
    "|변수 삭제|del df['col_names']|\n",
    "|변수명 변경|df.rename(columns={'col_names':'new_names'}, inplace=True)|"
   ]
  },
  {
   "cell_type": "markdown",
   "metadata": {},
   "source": [
    "**1. lapis 데이터프레임의 행과 열 크기를 확인해보세요.**"
   ]
  },
  {
   "cell_type": "code",
   "execution_count": 12,
   "metadata": {
    "tags": []
   },
   "outputs": [],
   "source": [
    "# 아래에 코드를 작성 후 실행해 보세요.\n"
   ]
  },
  {
   "cell_type": "markdown",
   "metadata": {},
   "source": [
    "**2. lapis 데이터프레임의 변수명을 확인해보세요.**"
   ]
  },
  {
   "cell_type": "code",
   "execution_count": 14,
   "metadata": {
    "tags": []
   },
   "outputs": [],
   "source": [
    "# 아래에 코드를 작성 후 실행해 보세요.\n"
   ]
  },
  {
   "cell_type": "markdown",
   "metadata": {},
   "source": [
    "**3. lapis 데이터프레임의 상위 3개 행을 출력해보세요**"
   ]
  },
  {
   "cell_type": "code",
   "execution_count": null,
   "metadata": {},
   "outputs": [],
   "source": [
    "# 아래에 코드를 작성 후 실행해 보세요.\n"
   ]
  },
  {
   "cell_type": "markdown",
   "metadata": {},
   "source": [
    "**4. lapis 데이터프레임의 하위 2개 행을 출력해보세요**"
   ]
  },
  {
   "cell_type": "code",
   "execution_count": null,
   "metadata": {},
   "outputs": [],
   "source": [
    "# 아래에 코드를 작성 후 실행해 보세요.\n"
   ]
  },
  {
   "cell_type": "markdown",
   "metadata": {},
   "source": [
    "**5. pangoLineage 변수열을 선택하여 상위 5개 행을 출력해보세요**"
   ]
  },
  {
   "cell_type": "code",
   "execution_count": 13,
   "metadata": {
    "tags": []
   },
   "outputs": [],
   "source": [
    "# 아래에 코드를 작성 후 실행해 보세요.\n"
   ]
  },
  {
   "cell_type": "markdown",
   "metadata": {},
   "source": [
    "**6. country 열을 삭제해보세요**"
   ]
  },
  {
   "cell_type": "code",
   "execution_count": 55,
   "metadata": {
    "tags": []
   },
   "outputs": [],
   "source": [
    "# 아래에 코드를 작성 후 실행해 보세요.\n"
   ]
  },
  {
   "cell_type": "markdown",
   "metadata": {},
   "source": [
    "**7. division 열이름을 country로 변경해보세요**"
   ]
  },
  {
   "cell_type": "code",
   "execution_count": 3,
   "metadata": {
    "tags": []
   },
   "outputs": [],
   "source": [
    "# 아래에 코드를 작성 후 실행해 보세요.\n"
   ]
  },
  {
   "cell_type": "markdown",
   "metadata": {
    "jp-MarkdownHeadingCollapsed": true,
    "tags": []
   },
   "source": [
    "### Answer"
   ]
  },
  {
   "cell_type": "code",
   "execution_count": 45,
   "metadata": {},
   "outputs": [
    {
     "data": {
      "text/plain": [
       "(57, 20)"
      ]
     },
     "execution_count": 45,
     "metadata": {},
     "output_type": "execute_result"
    }
   ],
   "source": [
    "df.shape"
   ]
  },
  {
   "cell_type": "code",
   "execution_count": 46,
   "metadata": {},
   "outputs": [
    {
     "data": {
      "text/plain": [
       "Index(['date', 'dateSubmitted', 'region', 'country', 'division', 'location',\n",
       "       'regionExposure', 'countryExposure', 'divisionExposure', 'age', 'sex',\n",
       "       'host', 'samplingStrategy', 'pangoLineage', 'nextcladePangoLineage',\n",
       "       'nextstrainClade', 'gisaidClade', 'submittingLab', 'originatingLab',\n",
       "       'count'],\n",
       "      dtype='object')"
      ]
     },
     "execution_count": 46,
     "metadata": {},
     "output_type": "execute_result"
    }
   ],
   "source": [
    "df.columns"
   ]
  },
  {
   "cell_type": "code",
   "execution_count": 47,
   "metadata": {},
   "outputs": [
    {
     "data": {
      "text/plain": [
       "Int64Index([ 0,  1,  2,  3,  4,  5,  6,  7,  8,  9, 10, 11, 12, 13, 14, 15, 16,\n",
       "            17, 18, 19, 20, 21, 22, 23, 24, 25, 26, 27, 28, 29, 30, 31, 32, 33,\n",
       "            34, 35, 36, 37, 38, 39, 40, 41, 42, 43, 44, 45, 46, 47, 48, 49, 50,\n",
       "            51, 52, 53, 54, 55, 56],\n",
       "           dtype='int64')"
      ]
     },
     "execution_count": 47,
     "metadata": {},
     "output_type": "execute_result"
    }
   ],
   "source": [
    "df.index"
   ]
  },
  {
   "cell_type": "code",
   "execution_count": 53,
   "metadata": {},
   "outputs": [
    {
     "data": {
      "text/html": [
       "<div>\n",
       "<style scoped>\n",
       "    .dataframe tbody tr th:only-of-type {\n",
       "        vertical-align: middle;\n",
       "    }\n",
       "\n",
       "    .dataframe tbody tr th {\n",
       "        vertical-align: top;\n",
       "    }\n",
       "\n",
       "    .dataframe thead th {\n",
       "        text-align: right;\n",
       "    }\n",
       "</style>\n",
       "<table border=\"1\" class=\"dataframe\">\n",
       "  <thead>\n",
       "    <tr style=\"text-align: right;\">\n",
       "      <th></th>\n",
       "      <th>date</th>\n",
       "      <th>dateSubmitted</th>\n",
       "      <th>region</th>\n",
       "      <th>country</th>\n",
       "      <th>division</th>\n",
       "      <th>location</th>\n",
       "      <th>regionExposure</th>\n",
       "      <th>countryExposure</th>\n",
       "      <th>divisionExposure</th>\n",
       "      <th>age</th>\n",
       "      <th>sex</th>\n",
       "      <th>host</th>\n",
       "      <th>samplingStrategy</th>\n",
       "      <th>pangoLineage</th>\n",
       "      <th>nextcladePangoLineage</th>\n",
       "      <th>nextstrainClade</th>\n",
       "      <th>gisaidClade</th>\n",
       "      <th>submittingLab</th>\n",
       "      <th>originatingLab</th>\n",
       "      <th>count</th>\n",
       "    </tr>\n",
       "  </thead>\n",
       "  <tbody>\n",
       "    <tr>\n",
       "      <th>0</th>\n",
       "      <td>2022-06-29</td>\n",
       "      <td>2022-12-28</td>\n",
       "      <td>Asia</td>\n",
       "      <td>South Korea</td>\n",
       "      <td>South Korea</td>\n",
       "      <td>NaN</td>\n",
       "      <td>Asia</td>\n",
       "      <td>South Korea</td>\n",
       "      <td>South Korea</td>\n",
       "      <td>NaN</td>\n",
       "      <td>NaN</td>\n",
       "      <td>NaN</td>\n",
       "      <td>NaN</td>\n",
       "      <td>BA.5.2</td>\n",
       "      <td>BA.5.2</td>\n",
       "      <td>22B</td>\n",
       "      <td>NaN</td>\n",
       "      <td>Jeollabukdo Institute of Health and Environmen...</td>\n",
       "      <td>NaN</td>\n",
       "      <td>1</td>\n",
       "    </tr>\n",
       "    <tr>\n",
       "      <th>1</th>\n",
       "      <td>2022-04-13</td>\n",
       "      <td>2022-11-14</td>\n",
       "      <td>Asia</td>\n",
       "      <td>South Korea</td>\n",
       "      <td>South Korea</td>\n",
       "      <td>NaN</td>\n",
       "      <td>Asia</td>\n",
       "      <td>South Korea</td>\n",
       "      <td>South Korea</td>\n",
       "      <td>NaN</td>\n",
       "      <td>NaN</td>\n",
       "      <td>Homo sapiens</td>\n",
       "      <td>NaN</td>\n",
       "      <td>BA.2.3</td>\n",
       "      <td>BA.2.3.8</td>\n",
       "      <td>21L</td>\n",
       "      <td>NaN</td>\n",
       "      <td>Kangdong Sacred Heart Hospital, Hallym Univers...</td>\n",
       "      <td>NaN</td>\n",
       "      <td>1</td>\n",
       "    </tr>\n",
       "    <tr>\n",
       "      <th>2</th>\n",
       "      <td>2022-04-16</td>\n",
       "      <td>2022-12-28</td>\n",
       "      <td>Asia</td>\n",
       "      <td>South Korea</td>\n",
       "      <td>South Korea</td>\n",
       "      <td>NaN</td>\n",
       "      <td>Asia</td>\n",
       "      <td>South Korea</td>\n",
       "      <td>South Korea</td>\n",
       "      <td>NaN</td>\n",
       "      <td>NaN</td>\n",
       "      <td>NaN</td>\n",
       "      <td>NaN</td>\n",
       "      <td>BA.2.3</td>\n",
       "      <td>BA.2.3</td>\n",
       "      <td>21L</td>\n",
       "      <td>NaN</td>\n",
       "      <td>Jeollabukdo Institute of Health and Environmen...</td>\n",
       "      <td>NaN</td>\n",
       "      <td>1</td>\n",
       "    </tr>\n",
       "  </tbody>\n",
       "</table>\n",
       "</div>"
      ],
      "text/plain": [
       "         date dateSubmitted region      country     division  location  \\\n",
       "0  2022-06-29    2022-12-28   Asia  South Korea  South Korea       NaN   \n",
       "1  2022-04-13    2022-11-14   Asia  South Korea  South Korea       NaN   \n",
       "2  2022-04-16    2022-12-28   Asia  South Korea  South Korea       NaN   \n",
       "\n",
       "  regionExposure countryExposure divisionExposure  age  sex          host  \\\n",
       "0           Asia     South Korea      South Korea  NaN  NaN           NaN   \n",
       "1           Asia     South Korea      South Korea  NaN  NaN  Homo sapiens   \n",
       "2           Asia     South Korea      South Korea  NaN  NaN           NaN   \n",
       "\n",
       "   samplingStrategy pangoLineage nextcladePangoLineage nextstrainClade  \\\n",
       "0               NaN       BA.5.2                BA.5.2             22B   \n",
       "1               NaN       BA.2.3              BA.2.3.8             21L   \n",
       "2               NaN       BA.2.3                BA.2.3             21L   \n",
       "\n",
       "   gisaidClade                                      submittingLab  \\\n",
       "0          NaN  Jeollabukdo Institute of Health and Environmen...   \n",
       "1          NaN  Kangdong Sacred Heart Hospital, Hallym Univers...   \n",
       "2          NaN  Jeollabukdo Institute of Health and Environmen...   \n",
       "\n",
       "   originatingLab  count  \n",
       "0             NaN      1  \n",
       "1             NaN      1  \n",
       "2             NaN      1  "
      ]
     },
     "execution_count": 53,
     "metadata": {},
     "output_type": "execute_result"
    }
   ],
   "source": [
    "df.head(3)"
   ]
  },
  {
   "cell_type": "code",
   "execution_count": 52,
   "metadata": {},
   "outputs": [
    {
     "data": {
      "text/html": [
       "<div>\n",
       "<style scoped>\n",
       "    .dataframe tbody tr th:only-of-type {\n",
       "        vertical-align: middle;\n",
       "    }\n",
       "\n",
       "    .dataframe tbody tr th {\n",
       "        vertical-align: top;\n",
       "    }\n",
       "\n",
       "    .dataframe thead th {\n",
       "        text-align: right;\n",
       "    }\n",
       "</style>\n",
       "<table border=\"1\" class=\"dataframe\">\n",
       "  <thead>\n",
       "    <tr style=\"text-align: right;\">\n",
       "      <th></th>\n",
       "      <th>date</th>\n",
       "      <th>dateSubmitted</th>\n",
       "      <th>region</th>\n",
       "      <th>country</th>\n",
       "      <th>division</th>\n",
       "      <th>location</th>\n",
       "      <th>regionExposure</th>\n",
       "      <th>countryExposure</th>\n",
       "      <th>divisionExposure</th>\n",
       "      <th>age</th>\n",
       "      <th>sex</th>\n",
       "      <th>host</th>\n",
       "      <th>samplingStrategy</th>\n",
       "      <th>pangoLineage</th>\n",
       "      <th>nextcladePangoLineage</th>\n",
       "      <th>nextstrainClade</th>\n",
       "      <th>gisaidClade</th>\n",
       "      <th>submittingLab</th>\n",
       "      <th>originatingLab</th>\n",
       "      <th>count</th>\n",
       "    </tr>\n",
       "  </thead>\n",
       "  <tbody>\n",
       "    <tr>\n",
       "      <th>55</th>\n",
       "      <td>2022-02-24</td>\n",
       "      <td>2022-11-14</td>\n",
       "      <td>Asia</td>\n",
       "      <td>South Korea</td>\n",
       "      <td>South Korea</td>\n",
       "      <td>NaN</td>\n",
       "      <td>Asia</td>\n",
       "      <td>South Korea</td>\n",
       "      <td>South Korea</td>\n",
       "      <td>NaN</td>\n",
       "      <td>NaN</td>\n",
       "      <td>Homo sapiens</td>\n",
       "      <td>NaN</td>\n",
       "      <td>BA.1</td>\n",
       "      <td>BA.1</td>\n",
       "      <td>21K</td>\n",
       "      <td>NaN</td>\n",
       "      <td>Kangdong Sacred Heart Hospital, Hallym Univers...</td>\n",
       "      <td>NaN</td>\n",
       "      <td>1</td>\n",
       "    </tr>\n",
       "    <tr>\n",
       "      <th>56</th>\n",
       "      <td>2022-03-08</td>\n",
       "      <td>2022-12-28</td>\n",
       "      <td>Asia</td>\n",
       "      <td>South Korea</td>\n",
       "      <td>South Korea</td>\n",
       "      <td>NaN</td>\n",
       "      <td>Asia</td>\n",
       "      <td>South Korea</td>\n",
       "      <td>South Korea</td>\n",
       "      <td>NaN</td>\n",
       "      <td>NaN</td>\n",
       "      <td>NaN</td>\n",
       "      <td>NaN</td>\n",
       "      <td>BA.1.1</td>\n",
       "      <td>BA.1.1</td>\n",
       "      <td>21K</td>\n",
       "      <td>NaN</td>\n",
       "      <td>Jeollabukdo Institute of Health and Environmen...</td>\n",
       "      <td>NaN</td>\n",
       "      <td>1</td>\n",
       "    </tr>\n",
       "  </tbody>\n",
       "</table>\n",
       "</div>"
      ],
      "text/plain": [
       "          date dateSubmitted region      country     division  location  \\\n",
       "55  2022-02-24    2022-11-14   Asia  South Korea  South Korea       NaN   \n",
       "56  2022-03-08    2022-12-28   Asia  South Korea  South Korea       NaN   \n",
       "\n",
       "   regionExposure countryExposure divisionExposure  age  sex          host  \\\n",
       "55           Asia     South Korea      South Korea  NaN  NaN  Homo sapiens   \n",
       "56           Asia     South Korea      South Korea  NaN  NaN           NaN   \n",
       "\n",
       "    samplingStrategy pangoLineage nextcladePangoLineage nextstrainClade  \\\n",
       "55               NaN         BA.1                  BA.1             21K   \n",
       "56               NaN       BA.1.1                BA.1.1             21K   \n",
       "\n",
       "    gisaidClade                                      submittingLab  \\\n",
       "55          NaN  Kangdong Sacred Heart Hospital, Hallym Univers...   \n",
       "56          NaN  Jeollabukdo Institute of Health and Environmen...   \n",
       "\n",
       "    originatingLab  count  \n",
       "55             NaN      1  \n",
       "56             NaN      1  "
      ]
     },
     "execution_count": 52,
     "metadata": {},
     "output_type": "execute_result"
    }
   ],
   "source": [
    "df.tail(2)"
   ]
  },
  {
   "cell_type": "code",
   "execution_count": 56,
   "metadata": {},
   "outputs": [
    {
     "data": {
      "text/plain": [
       "0    BA.5.2\n",
       "1    BA.2.3\n",
       "2    BA.2.3\n",
       "3      BA.2\n",
       "Name: pangoLineage, dtype: object"
      ]
     },
     "execution_count": 56,
     "metadata": {},
     "output_type": "execute_result"
    }
   ],
   "source": [
    "df['pangoLineage'].head(4)"
   ]
  },
  {
   "cell_type": "code",
   "execution_count": 58,
   "metadata": {},
   "outputs": [],
   "source": [
    "del df['country']"
   ]
  },
  {
   "cell_type": "code",
   "execution_count": 60,
   "metadata": {},
   "outputs": [],
   "source": [
    "df.rename(columns={'division':'country'}, inplace=True)"
   ]
  },
  {
   "cell_type": "markdown",
   "metadata": {},
   "source": [
    "# 데이터 변환"
   ]
  },
  {
   "cell_type": "markdown",
   "metadata": {},
   "source": [
    "****"
   ]
  },
  {
   "cell_type": "markdown",
   "metadata": {},
   "source": [
    "* 데이터프레임 값의 자료형은 두 가지로 확인할 수 있습니다.\n",
    "|dtypes 속성|info() 메서드|\n",
    "|:--:|:--:|\n",
    "|columns의 자료형만 확인 가능|세부 정보 파악 가능|"
   ]
  },
  {
   "cell_type": "markdown",
   "metadata": {},
   "source": [
    "||파이썬|판다스|\n",
    "|:--:|:--:|:--:|\n",
    "|문자열|string|object|\n",
    "|정수|int|int64|\n",
    "|실수|float|float64|\n",
    "|datetime|datetime|datetime64|\n",
    "* 판다스와 파이썬의 자료형 표현은 상이합니다."
   ]
  },
  {
   "cell_type": "markdown",
   "metadata": {},
   "source": [
    "**아래에서 자료형 값을 출력하는 코드를 실행 후 어떤 형태의 자료형이 출력되는지 확인해보세요.**"
   ]
  },
  {
   "cell_type": "code",
   "execution_count": null,
   "metadata": {},
   "outputs": [],
   "source": [
    "# info() 메소드로 데이터프레임의 정보를 파악해보세요.\n",
    "# 아래에 코드를 작성 후 실행해 보세요.\n"
   ]
  },
  {
   "cell_type": "markdown",
   "metadata": {},
   "source": [
    "**dtypes 속성으로 데이터프레임의 자료형을 확인해보세요.**"
   ]
  },
  {
   "cell_type": "code",
   "execution_count": null,
   "metadata": {},
   "outputs": [],
   "source": [
    "# 아래에 코드를 작성 후 실행해 보세요.\n"
   ]
  },
  {
   "cell_type": "markdown",
   "metadata": {
    "tags": []
   },
   "source": [
    "### Answer"
   ]
  },
  {
   "cell_type": "code",
   "execution_count": 76,
   "metadata": {},
   "outputs": [
    {
     "name": "stdout",
     "output_type": "stream",
     "text": [
      "<class 'pandas.core.frame.DataFrame'>\n",
      "Int64Index: 57 entries, 0 to 56\n",
      "Data columns (total 21 columns):\n",
      " #   Column                 Non-Null Count  Dtype          \n",
      "---  ------                 --------------  -----          \n",
      " 0   date                   57 non-null     object         \n",
      " 1   dateSubmitted          57 non-null     object         \n",
      " 2   region                 57 non-null     object         \n",
      " 3   location               0 non-null      float64        \n",
      " 4   regionExposure         57 non-null     object         \n",
      " 5   countryExposure        57 non-null     object         \n",
      " 6   divisionExposure       57 non-null     object         \n",
      " 7   age                    0 non-null      float64        \n",
      " 8   sex                    0 non-null      float64        \n",
      " 9   host                   24 non-null     object         \n",
      " 10  samplingStrategy       0 non-null      float64        \n",
      " 11  pangoLineage           57 non-null     object         \n",
      " 12  nextcladePangoLineage  57 non-null     object         \n",
      " 13  nextstrainClade        57 non-null     object         \n",
      " 14  gisaidClade            0 non-null      float64        \n",
      " 15  submittingLab          57 non-null     object         \n",
      " 16  originatingLab         0 non-null      float64        \n",
      " 17  count                  57 non-null     int64          \n",
      " 18  datesubmitted_dt       57 non-null     datetime64[ns] \n",
      " 19  date_dt                57 non-null     datetime64[ns] \n",
      " 20  t_days                 57 non-null     timedelta64[ns]\n",
      "dtypes: datetime64[ns](2), float64(6), int64(1), object(11), timedelta64[ns](1)\n",
      "memory usage: 9.8+ KB\n"
     ]
    }
   ],
   "source": [
    "# Example code (1)\n",
    "df.info()"
   ]
  },
  {
   "cell_type": "code",
   "execution_count": 77,
   "metadata": {},
   "outputs": [
    {
     "data": {
      "text/plain": [
       "date                              object\n",
       "dateSubmitted                     object\n",
       "region                            object\n",
       "location                         float64\n",
       "regionExposure                    object\n",
       "countryExposure                   object\n",
       "divisionExposure                  object\n",
       "age                              float64\n",
       "sex                              float64\n",
       "host                              object\n",
       "samplingStrategy                 float64\n",
       "pangoLineage                      object\n",
       "nextcladePangoLineage             object\n",
       "nextstrainClade                   object\n",
       "gisaidClade                      float64\n",
       "submittingLab                     object\n",
       "originatingLab                   float64\n",
       "count                              int64\n",
       "datesubmitted_dt          datetime64[ns]\n",
       "date_dt                   datetime64[ns]\n",
       "t_days                   timedelta64[ns]\n",
       "dtype: object"
      ]
     },
     "execution_count": 77,
     "metadata": {},
     "output_type": "execute_result"
    }
   ],
   "source": [
    "# Example code (2)\n",
    "df.dtypes"
   ]
  },
  {
   "cell_type": "markdown",
   "metadata": {},
   "source": [
    "## **[자료형의 변경 응용 문제]**: \n",
    "데이터 포멧을 변경 후 새로운 열을 생성하기"
   ]
  },
  {
   "cell_type": "markdown",
   "metadata": {},
   "source": [
    "**1. date(발병일)과 dateSubmitted(확진일)열의 포멧을 Pandas의 datetime으로 변경해보세요.**\n",
    "* Hint: pd.to_datetime 함수를 활용해보세요.\n",
    "* Hint: 옵션은 format='%Y-%m-%d'로 지정하면 됩니다.\n",
    "* Hint: datetime 자료형으로 변경 후 새로운 열로 생성해야합니다."
   ]
  },
  {
   "cell_type": "code",
   "execution_count": null,
   "metadata": {},
   "outputs": [],
   "source": [
    "# 아래에 코드를 작성 후 실행해 보세요.\n"
   ]
  },
  {
   "cell_type": "markdown",
   "metadata": {},
   "source": [
    "**2. dateSubmitted와 date의 차를 계산 후, t_days라는 새로운 열을 생성해보세요.**"
   ]
  },
  {
   "cell_type": "code",
   "execution_count": null,
   "metadata": {},
   "outputs": [],
   "source": [
    "# 아래에 코드를 작성 후 실행해 보세요.\n"
   ]
  },
  {
   "cell_type": "markdown",
   "metadata": {
    "tags": []
   },
   "source": [
    "### Answer"
   ]
  },
  {
   "cell_type": "code",
   "execution_count": 73,
   "metadata": {},
   "outputs": [],
   "source": [
    "# Example code (3)\n",
    "df['date_dt'] = pd.to_datetime(df['date'], format = '%Y-%m-%d')\n",
    "df['datesubmitted_dt'] = pd.to_datetime(df['dateSubmitted'], format = '%Y-%m-%d')"
   ]
  },
  {
   "cell_type": "code",
   "execution_count": 75,
   "metadata": {},
   "outputs": [
    {
     "data": {
      "text/plain": [
       "0   182 days\n",
       "1   215 days\n",
       "2   256 days\n",
       "Name: t_days, dtype: timedelta64[ns]"
      ]
     },
     "execution_count": 75,
     "metadata": {},
     "output_type": "execute_result"
    }
   ],
   "source": [
    "# Example code (4)\n",
    "df['t_days'] = df['datesubmitted_dt'] - df['date_dt']\n",
    "df['t_days'].head(3)"
   ]
  }
 ],
 "metadata": {
  "kernelspec": {
   "display_name": "Python 3 (ipykernel)",
   "language": "python",
   "name": "python3"
  },
  "language_info": {
   "codemirror_mode": {
    "name": "ipython",
    "version": 3
   },
   "file_extension": ".py",
   "mimetype": "text/x-python",
   "name": "python",
   "nbconvert_exporter": "python",
   "pygments_lexer": "ipython3",
   "version": "3.10.9"
  },
  "toc-autonumbering": false
 },
 "nbformat": 4,
 "nbformat_minor": 4
}
