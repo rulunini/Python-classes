{
 "cells": [
  {
   "cell_type": "markdown",
   "metadata": {},
   "source": [
    "# 데이터 프레임 기초"
   ]
  },
  {
   "cell_type": "markdown",
   "metadata": {},
   "source": [
    "****"
   ]
  },
  {
   "cell_type": "markdown",
   "metadata": {},
   "source": [
    "**발표자**  \n",
    "(주)인실리코젠 DSC 박소희\n",
    "\n",
    "**내용**  \n",
    "1. Pandas 데이터 프레임 생성\n",
    "2. 데이터 저장\n",
    "3. 데이터 불러오기\n",
    "4. 변수 접근\n",
    "5. 데이터 변환\n",
    "\n",
    "**데이터 셋**  \n",
    "lapis_korea.csv"
   ]
  },
  {
   "cell_type": "code",
   "execution_count": 1,
   "metadata": {
    "tags": []
   },
   "outputs": [],
   "source": [
    "import pandas as pd"
   ]
  },
  {
   "cell_type": "markdown",
   "metadata": {},
   "source": [
    "# 데이터 생성"
   ]
  },
  {
   "cell_type": "markdown",
   "metadata": {},
   "source": [
    "****"
   ]
  },
  {
   "cell_type": "markdown",
   "metadata": {},
   "source": [
    "```python\n",
    "pd.DataFrame(data=None, index=None, columns=None, dtype=None, copy=None)\n",
    "\n",
    "```\n",
    "\n",
    "|이름|생년월일|나이|MBTI|\n",
    "|:--:|:--:|:--:|:--:|\n",
    "|소희|1995-12-20|28|ENFP|\n",
    "|영수|2001-06-10|22|ISTP|\n"
   ]
  },
  {
   "cell_type": "markdown",
   "metadata": {},
   "source": [
    "**1. 위의 테이블을 나타내는 코드에서 본인 정보를 추가하여 코드를 실행해봅시다.**  \n",
    "* Hint: Dictionary 형태로 만들어 friend라는 변수에 저장 후 출력해보세요.\n"
   ]
  },
  {
   "cell_type": "code",
   "execution_count": null,
   "metadata": {},
   "outputs": [],
   "source": [
    "# 아래에 코드를 수정 후 실행해 보세요\n",
    "friend={'이름':['소희','영수','your_name'],\n",
    "        '생년월일':['1995-12-20','2001-06-10', 'your_birthday'],\n",
    "        '나이':[28, 22, 0],\n",
    "        'MBTI':['ENFP','ISTP','your_mbti']}\n",
    "friend"
   ]
  },
  {
   "cell_type": "markdown",
   "metadata": {},
   "source": [
    "**2-1. friend 변수를 데이터프레임으로 만들어보세요. 그리고 friend_df 변수로 저장하여 출력하세요.**  \n",
    "* Hint: pd.DataFrame을 활용해봅시다.\n"
   ]
  },
  {
   "cell_type": "code",
   "execution_count": null,
   "metadata": {},
   "outputs": [],
   "source": [
    "# TO_MAKE_DATAFRAME를 수정 후 실행해 보세요\n",
    "friend_df = pd.TO_MAKE_DATAFRAME(friend)\n",
    "friend_df"
   ]
  },
  {
   "cell_type": "markdown",
   "metadata": {},
   "source": [
    "**2-2. friend 변수에 '친구1', '친구2', '나'라는 인덱스를 추가하여 데이터프레임으로 만들어보세요. 그리고 friend_df2 변수로 저장하여 출력하세요.**  \n",
    "* Hint: pd.DataFrame의 index 옵션을 활용해봅시다."
   ]
  },
  {
   "cell_type": "code",
   "execution_count": null,
   "metadata": {},
   "outputs": [],
   "source": [
    "# 아래에 코드를 작성 후 실행해 보세요\n",
    "friend_df2 = pd.DataFrame(friend, index=['EDIT_HERE', 'EDIT_HERE', 'EDIT_HERE'])\n",
    "friend_df2"
   ]
  },
  {
   "cell_type": "markdown",
   "metadata": {},
   "source": [
    "# 데이터 저장"
   ]
  },
  {
   "cell_type": "markdown",
   "metadata": {},
   "source": [
    "****"
   ]
  },
  {
   "cell_type": "markdown",
   "metadata": {},
   "source": [
    "**1. friend_df를 csv 형태로 저장해봅시다.**\n",
    "* Hint: to_csv, to_excel, to_json 중 하나를 활용해봅시다."
   ]
  },
  {
   "cell_type": "code",
   "execution_count": 32,
   "metadata": {},
   "outputs": [],
   "source": [
    "# TO_SAVE_CSV를 수정 후, 파일 경로 또는 파일명을 설정해서 실행해주세요\n",
    "friend_df.TO_SAVE_CSV('./set_file_name.csv')"
   ]
  },
  {
   "cell_type": "markdown",
   "metadata": {},
   "source": [
    "**2. csv 파일을 열어보세요. 한글이 깨지나요? 불필요한 열이 생성되었나요?**\n",
    "* Hint1: to_csv의 옵션인 encoding을 CP949(또는 EUC-KR, UTF-8)로 지정해보세요\n",
    "* Hint2: to_csv의 옵션인 index을 0으로 지정해보세요"
   ]
  },
  {
   "cell_type": "code",
   "execution_count": 37,
   "metadata": {},
   "outputs": [],
   "source": [
    "# 아래에 코드를 작성 후 실행해 보세요\n",
    "friend_df.to_csv('./set_file_name.csv', encoding='EDIT_HERE', index=EDIT_HERE)"
   ]
  },
  {
   "cell_type": "markdown",
   "metadata": {},
   "source": [
    "# 데이터 불러오기"
   ]
  },
  {
   "cell_type": "markdown",
   "metadata": {},
   "source": [
    "****"
   ]
  },
  {
   "cell_type": "markdown",
   "metadata": {},
   "source": [
    "|pandas 함수|설명|\n",
    "|:--:|:--:|\n",
    "|read_csv()|쉼표(,)로 구분된 파일을 읽습니다.|\n",
    "|read_excel()|Excel 파일을 읽습니다.|\n",
    "|read_table()|탭(\\t)으로 구분된 파일을 읽습니다.|\n",
    "|read_fwf()|구분자가 없는 파일을 읽습니다.|"
   ]
  },
  {
   "cell_type": "markdown",
   "metadata": {},
   "source": [
    "**1. 구글 드라이브에 저장된 lapis_korea.csv 파일을 열어보세요.**  \n",
    "* Hint: read_csv, read_excel, read_table 중 하나를 활용해보세요"
   ]
  },
  {
   "cell_type": "code",
   "execution_count": null,
   "metadata": {},
   "outputs": [],
   "source": [
    "# TO_READ_CSV 수정 후 아래에 코드를 실행해 보세요\n",
    "pd.TO_READ_CSV('./datafile/lapis_korea.csv')"
   ]
  },
  {
   "cell_type": "markdown",
   "metadata": {},
   "source": [
    "**2. 첫 번째 열로 지정된 csv파일에서의 index를 DataFrame에서 index로 지정해보세요. 그리고 df 변수로 지정해주세요.**\n",
    "* Hint: index_col로 컬럼번호를 지정해보세요"
   ]
  },
  {
   "cell_type": "code",
   "execution_count": 4,
   "metadata": {},
   "outputs": [],
   "source": [
    "# 아래에 코드를 작성 후 실행해 보세요\n",
    "df = pd.read_csv('./datafile/lapis_korea.csv', index_col=EDIT_HERE)"
   ]
  },
  {
   "cell_type": "markdown",
   "metadata": {
    "tags": []
   },
   "source": [
    "# 변수 접근"
   ]
  },
  {
   "cell_type": "markdown",
   "metadata": {},
   "source": [
    "****"
   ]
  },
  {
   "cell_type": "markdown",
   "metadata": {},
   "source": [
    "|접근법|예시 코드|\n",
    "|:--:|:--:|\n",
    "|데이터 형태 확인|df.shape|\n",
    "|변수명 확인|df.columns|\n",
    "|변수열 선택|df.col_names 또는df['col_names']|\n",
    "|변수 삭제|del df['col_names']|\n",
    "|변수명 변경|df.rename(columns={'col_names':'new_names'}, inplace=True)|"
   ]
  },
  {
   "cell_type": "markdown",
   "metadata": {},
   "source": [
    "**1. lapis 데이터프레임의 행과 열 크기를 확인해보세요.**"
   ]
  },
  {
   "cell_type": "code",
   "execution_count": null,
   "metadata": {},
   "outputs": [],
   "source": [
    "# TO_SHOW_THE_DIMENSION를 알맞게 수정 후 실행해 보세요.\n",
    "df.TO_SHOW_THE_DIMENSION"
   ]
  },
  {
   "cell_type": "markdown",
   "metadata": {},
   "source": [
    "**2. lapis 데이터프레임의 변수명을 확인해보세요.**"
   ]
  },
  {
   "cell_type": "code",
   "execution_count": null,
   "metadata": {},
   "outputs": [],
   "source": [
    "# TO_SHOW_THE_COLUMN_NAME를 알맞게 수정 후 실행해 보세요.\n",
    "df.TO_SHOW_THE_COLUMN_NAME"
   ]
  },
  {
   "cell_type": "markdown",
   "metadata": {},
   "source": [
    "**3. lapis 데이터프레임의 상위 3개 행을 출력해보세요**\n",
    "* Hint: Head( )를 활용해보세요."
   ]
  },
  {
   "cell_type": "code",
   "execution_count": null,
   "metadata": {},
   "outputs": [],
   "source": [
    "# TO_SHOW_THE_HEAD를 알맞게 수정 후 실행해 보세요.\n",
    "df.TO_SHOW_THE_HEAD()"
   ]
  },
  {
   "cell_type": "markdown",
   "metadata": {},
   "source": [
    "**4. lapis 데이터프레임의 하위 2개 행을 출력해보세요**\n",
    "* Hint: tail( )를 활용해보세요."
   ]
  },
  {
   "cell_type": "code",
   "execution_count": null,
   "metadata": {},
   "outputs": [],
   "source": [
    "# TO_SHOW_THE_TAIL를 알맞게 수정 후 실행해 보세요.\n",
    "df.TO_SHOW_THE_TAIL(2)"
   ]
  },
  {
   "cell_type": "markdown",
   "metadata": {},
   "source": [
    "**5. pangoLineage 변수열을 선택하여 상위 5개 행을 출력해보세요**\n",
    "* Hint: 두 가지 방법이 있습니다. 발표 자료를 참고해주세요."
   ]
  },
  {
   "cell_type": "code",
   "execution_count": 13,
   "metadata": {
    "tags": []
   },
   "outputs": [],
   "source": [
    "# 아래에 코드를 작성 후 실행해 보세요.\n"
   ]
  },
  {
   "cell_type": "code",
   "execution_count": null,
   "metadata": {},
   "outputs": [],
   "source": [
    "# 아래에 코드를 작성 후 실행해 보세요.\n"
   ]
  },
  {
   "cell_type": "markdown",
   "metadata": {},
   "source": [
    "**6. country 열을 삭제해보세요**"
   ]
  },
  {
   "cell_type": "code",
   "execution_count": 55,
   "metadata": {
    "tags": []
   },
   "outputs": [],
   "source": [
    "# 아래에 코드를 작성 후 실행해 보세요.\n"
   ]
  },
  {
   "cell_type": "markdown",
   "metadata": {},
   "source": [
    "**7. division 열이름을 country로 즉시 변경해보세요**"
   ]
  },
  {
   "cell_type": "code",
   "execution_count": 3,
   "metadata": {
    "tags": []
   },
   "outputs": [],
   "source": [
    "# TO_RENAME_COLUMN_NAME를 알맞게 수정 후 실행해 보세요.\n",
    "df.TO_RENAME_COLUMN_NAME(columns={'OLD_COL_NAME':'NEW_COL_NAME'}, inplace=True)"
   ]
  },
  {
   "cell_type": "markdown",
   "metadata": {},
   "source": [
    "# 데이터 변환"
   ]
  },
  {
   "cell_type": "markdown",
   "metadata": {},
   "source": [
    "****"
   ]
  },
  {
   "cell_type": "markdown",
   "metadata": {},
   "source": [
    "* 데이터프레임 값의 자료형은 두 가지로 확인할 수 있습니다.\n",
    "|dtypes 속성|info() 메서드|\n",
    "|:--:|:--:|\n",
    "|columns의 자료형만 확인 가능|세부 정보 파악 가능|"
   ]
  },
  {
   "cell_type": "markdown",
   "metadata": {},
   "source": [
    "||파이썬|판다스|\n",
    "|:--:|:--:|:--:|\n",
    "|문자열|string|object|\n",
    "|정수|int|int64|\n",
    "|실수|float|float64|\n",
    "|datetime|datetime|datetime64|\n",
    "* 판다스와 파이썬의 자료형 표현은 상이합니다."
   ]
  },
  {
   "cell_type": "markdown",
   "metadata": {},
   "source": [
    "**아래에서 데이터프레임의 각 변수열이 어떤 형태의 자료형인지 확인해보세요.**\n",
    "* Hint: dtype 속성을 활용해보세요"
   ]
  },
  {
   "cell_type": "code",
   "execution_count": null,
   "metadata": {},
   "outputs": [],
   "source": [
    "# TO_SHOW_THE_DATA_TYPES를 알맞게 수정 후 코드를 실행해 보세요.\n",
    "df.TO_SHOW_THE_DATA_TYPES"
   ]
  },
  {
   "cell_type": "markdown",
   "metadata": {},
   "source": [
    "**아래에서 데이터프레임의 전체 정보를 출력해보세요.**\n",
    "* Hint: info( ) 메소드를 활용해보세요"
   ]
  },
  {
   "cell_type": "code",
   "execution_count": null,
   "metadata": {},
   "outputs": [],
   "source": [
    "# TO_SHOW_INFO_OF_DATAFRAME를 알맞게 수정 후 코드를 실행해 보세요.\n",
    "df.TO_SHOW_INFO_OF_DATAFRAME()"
   ]
  },
  {
   "cell_type": "markdown",
   "metadata": {},
   "source": [
    "## **[자료형의 변경 응용 문제]**: \n",
    "데이터 포멧을 변경 후 새로운 열을 생성하기"
   ]
  },
  {
   "cell_type": "markdown",
   "metadata": {},
   "source": [
    "**1. date(발병일)과 dateSubmitted(확진일)열의 포멧을 Pandas의 datetime으로 변경해보세요.**\n",
    "* Hint: pd.to_datetime 함수를 활용해보세요.\n",
    "* Hint: 옵션은 format='%Y-%m-%d'로 지정하면 됩니다.\n",
    "* Hint: datetime 자료형으로 변경 후 새로운 열로 생성해야합니다."
   ]
  },
  {
   "cell_type": "code",
   "execution_count": null,
   "metadata": {},
   "outputs": [],
   "source": [
    "# 아래에 코드를 작성 후 실행해 보세요.\n"
   ]
  },
  {
   "cell_type": "markdown",
   "metadata": {},
   "source": [
    "**2. dateSubmitted와 date의 차를 계산 후, t_days라는 새로운 열을 생성해보세요.**"
   ]
  },
  {
   "cell_type": "code",
   "execution_count": null,
   "metadata": {},
   "outputs": [],
   "source": [
    "# 아래에 코드를 작성 후 실행해 보세요.\n"
   ]
  }
 ],
 "metadata": {
  "kernelspec": {
   "display_name": "Python 3 (ipykernel)",
   "language": "python",
   "name": "python3"
  },
  "language_info": {
   "codemirror_mode": {
    "name": "ipython",
    "version": 3
   },
   "file_extension": ".py",
   "mimetype": "text/x-python",
   "name": "python",
   "nbconvert_exporter": "python",
   "pygments_lexer": "ipython3",
   "version": "3.10.9"
  },
  "toc-autonumbering": false
 },
 "nbformat": 4,
 "nbformat_minor": 4
}
