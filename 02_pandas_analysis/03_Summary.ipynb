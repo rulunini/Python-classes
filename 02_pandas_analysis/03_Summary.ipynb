{
 "cells": [
  {
   "cell_type": "markdown",
   "id": "e38d76e1-5a50-43bb-a8de-652715de23ec",
   "metadata": {},
   "source": [
    "# Pandas 데이터 요약"
   ]
  },
  {
   "cell_type": "markdown",
   "id": "fa25b251-f664-4a9b-86ce-384c30fd831f",
   "metadata": {},
   "source": [
    "****"
   ]
  },
  {
   "cell_type": "markdown",
   "id": "0325ad0e-71d1-4b29-ad9b-30f95c099588",
   "metadata": {},
   "source": [
    "**발표자**  \n",
    "DSC 박소희\n",
    "\n",
    "**내용**  \n",
    "1. 기초 통계 계산\n",
    "2. 데이터 그룹화 (groupby)\n",
    "3. 데이터 재구조화 (pivot과 melt)\n",
    "4. 시각화\n",
    "\n",
    "**데이터 셋**  \n",
    "gapminder.tsv, scientists.csv, pew.csv"
   ]
  },
  {
   "cell_type": "code",
   "execution_count": 1,
   "id": "526b6154-14b7-45ee-81f5-5c74357fadad",
   "metadata": {},
   "outputs": [
    {
     "data": {
      "text/plain": [
       "'1.5.3'"
      ]
     },
     "execution_count": 1,
     "metadata": {},
     "output_type": "execute_result"
    }
   ],
   "source": [
    "import pandas as pd"
   ]
  },
  {
   "cell_type": "markdown",
   "id": "bff7dde0-6e6f-4932-8a21-35e2e7c59818",
   "metadata": {
    "tags": []
   },
   "source": [
    "# 데이터 불러오기 "
   ]
  },
  {
   "cell_type": "markdown",
   "id": "d8fa623f-b507-4345-8bda-2d63c4f8a649",
   "metadata": {},
   "source": [
    "****"
   ]
  },
  {
   "cell_type": "markdown",
   "id": "aeb66f78-1bd3-4f63-8f22-a32420553503",
   "metadata": {},
   "source": [
    "**1. 로컬에 저장된 gapminder.csv 파일을 불러와 변수 gapminder로 지정해주세요.**"
   ]
  },
  {
   "cell_type": "code",
   "execution_count": 2,
   "id": "a9a4f7e6-206f-4da3-92c9-bff6dc6965ba",
   "metadata": {},
   "outputs": [],
   "source": [
    "# 아래에 코드를 작성 후 실행해 보세요.\n"
   ]
  },
  {
   "cell_type": "markdown",
   "id": "d0b63720-8db6-4bd4-8992-7df0eb437296",
   "metadata": {},
   "source": [
    "**2. 로컬에 저장된 scientists.csv 파일을 불러와 변수 scientists로 지정해주세요.**\n",
    "* 필요에 따라서 delimiter 옵션을 사용합니다.\n",
    "* index_col은 0번째 열로 선택해주세요."
   ]
  },
  {
   "cell_type": "code",
   "execution_count": 3,
   "id": "33452f7f-8639-4df0-9f30-c25882d5f3f5",
   "metadata": {},
   "outputs": [],
   "source": [
    "# 아래에 코드를 작성 후 실행해 보세요.\n"
   ]
  },
  {
   "cell_type": "markdown",
   "id": "2c3f74e8-6fef-4c7a-9cae-1026ce2d62d6",
   "metadata": {},
   "source": [
    "# 기초 통계 계산"
   ]
  },
  {
   "cell_type": "markdown",
   "id": "59ead429-5477-4f86-8b88-85d81745751e",
   "metadata": {},
   "source": [
    "****"
   ]
  },
  {
   "cell_type": "markdown",
   "id": "b172015d-6ed0-4055-90a9-438f35334887",
   "metadata": {},
   "source": [
    "## DataFrame\n",
    "\n",
    "```python\n",
    "DataFrame.describe(percentiles=None, include=None, exclude=None)\n",
    "```"
   ]
  },
  {
   "cell_type": "code",
   "execution_count": 16,
   "id": "bdf0f973-54de-4fb2-bdec-85d2c551f8c8",
   "metadata": {
    "tags": []
   },
   "outputs": [
    {
     "data": {
      "text/html": [
       "<div>\n",
       "<style scoped>\n",
       "    .dataframe tbody tr th:only-of-type {\n",
       "        vertical-align: middle;\n",
       "    }\n",
       "\n",
       "    .dataframe tbody tr th {\n",
       "        vertical-align: top;\n",
       "    }\n",
       "\n",
       "    .dataframe thead th {\n",
       "        text-align: right;\n",
       "    }\n",
       "</style>\n",
       "<table border=\"1\" class=\"dataframe\">\n",
       "  <thead>\n",
       "    <tr style=\"text-align: right;\">\n",
       "      <th></th>\n",
       "      <th>year</th>\n",
       "      <th>lifeExp</th>\n",
       "      <th>pop</th>\n",
       "      <th>gdpPercap</th>\n",
       "    </tr>\n",
       "  </thead>\n",
       "  <tbody>\n",
       "    <tr>\n",
       "      <th>count</th>\n",
       "      <td>1704.00000</td>\n",
       "      <td>1704.000000</td>\n",
       "      <td>1.704000e+03</td>\n",
       "      <td>1704.000000</td>\n",
       "    </tr>\n",
       "    <tr>\n",
       "      <th>mean</th>\n",
       "      <td>1979.50000</td>\n",
       "      <td>59.474439</td>\n",
       "      <td>2.960121e+07</td>\n",
       "      <td>7215.327081</td>\n",
       "    </tr>\n",
       "    <tr>\n",
       "      <th>std</th>\n",
       "      <td>17.26533</td>\n",
       "      <td>12.917107</td>\n",
       "      <td>1.061579e+08</td>\n",
       "      <td>9857.454543</td>\n",
       "    </tr>\n",
       "    <tr>\n",
       "      <th>min</th>\n",
       "      <td>1952.00000</td>\n",
       "      <td>23.599000</td>\n",
       "      <td>6.001100e+04</td>\n",
       "      <td>241.165876</td>\n",
       "    </tr>\n",
       "    <tr>\n",
       "      <th>25%</th>\n",
       "      <td>1965.75000</td>\n",
       "      <td>48.198000</td>\n",
       "      <td>2.793664e+06</td>\n",
       "      <td>1202.060309</td>\n",
       "    </tr>\n",
       "    <tr>\n",
       "      <th>50%</th>\n",
       "      <td>1979.50000</td>\n",
       "      <td>60.712500</td>\n",
       "      <td>7.023596e+06</td>\n",
       "      <td>3531.846988</td>\n",
       "    </tr>\n",
       "    <tr>\n",
       "      <th>75%</th>\n",
       "      <td>1993.25000</td>\n",
       "      <td>70.845500</td>\n",
       "      <td>1.958522e+07</td>\n",
       "      <td>9325.462346</td>\n",
       "    </tr>\n",
       "    <tr>\n",
       "      <th>max</th>\n",
       "      <td>2007.00000</td>\n",
       "      <td>82.603000</td>\n",
       "      <td>1.318683e+09</td>\n",
       "      <td>113523.132900</td>\n",
       "    </tr>\n",
       "  </tbody>\n",
       "</table>\n",
       "</div>"
      ],
      "text/plain": [
       "             year      lifeExp           pop      gdpPercap\n",
       "count  1704.00000  1704.000000  1.704000e+03    1704.000000\n",
       "mean   1979.50000    59.474439  2.960121e+07    7215.327081\n",
       "std      17.26533    12.917107  1.061579e+08    9857.454543\n",
       "min    1952.00000    23.599000  6.001100e+04     241.165876\n",
       "25%    1965.75000    48.198000  2.793664e+06    1202.060309\n",
       "50%    1979.50000    60.712500  7.023596e+06    3531.846988\n",
       "75%    1993.25000    70.845500  1.958522e+07    9325.462346\n",
       "max    2007.00000    82.603000  1.318683e+09  113523.132900"
      ]
     },
     "execution_count": 16,
     "metadata": {},
     "output_type": "execute_result"
    }
   ],
   "source": [
    "gapminder.describe()"
   ]
  },
  {
   "cell_type": "markdown",
   "id": "7fa526e3-6445-48d9-9c0d-c5cdc56d6c63",
   "metadata": {
    "tags": []
   },
   "source": [
    "## Series"
   ]
  },
  {
   "cell_type": "markdown",
   "id": "f50c6ea8-5d9b-47ea-9a71-51726f6dab1f",
   "metadata": {},
   "source": [
    "### 수치형 기술 통계"
   ]
  },
  {
   "cell_type": "code",
   "execution_count": 23,
   "id": "917c061f-4424-475b-8acf-73974abd5204",
   "metadata": {},
   "outputs": [
    {
     "data": {
      "text/plain": [
       "0       28.801\n",
       "1       30.332\n",
       "2       31.997\n",
       "3       34.020\n",
       "4       36.088\n",
       "         ...  \n",
       "1699    62.351\n",
       "1700    60.377\n",
       "1701    46.809\n",
       "1702    39.989\n",
       "1703    43.487\n",
       "Name: lifeExp, Length: 1704, dtype: float64"
      ]
     },
     "execution_count": 23,
     "metadata": {},
     "output_type": "execute_result"
    }
   ],
   "source": [
    "gapminder['lifeExp']"
   ]
  },
  {
   "cell_type": "code",
   "execution_count": 8,
   "id": "e214e554-b8db-4075-988c-fc6d89b30a58",
   "metadata": {},
   "outputs": [
    {
     "data": {
      "text/plain": [
       "12.917107415241187"
      ]
     },
     "execution_count": 8,
     "metadata": {},
     "output_type": "execute_result"
    }
   ],
   "source": [
    "gapminder['lifeExp'].mean()\n",
    "gapminder['lifeExp'].min()\n",
    "gapminder['lifeExp'].max()\n",
    "gapminder['lifeExp'].std()"
   ]
  },
  {
   "cell_type": "markdown",
   "id": "db74b61f-c922-4bb8-abfb-719823c43167",
   "metadata": {},
   "source": [
    "### 범주형 기술 통계"
   ]
  },
  {
   "cell_type": "code",
   "execution_count": 10,
   "id": "ead9aa81-b02c-46c9-99bd-8f1889abd54a",
   "metadata": {},
   "outputs": [
    {
     "data": {
      "text/html": [
       "<div>\n",
       "<style scoped>\n",
       "    .dataframe tbody tr th:only-of-type {\n",
       "        vertical-align: middle;\n",
       "    }\n",
       "\n",
       "    .dataframe tbody tr th {\n",
       "        vertical-align: top;\n",
       "    }\n",
       "\n",
       "    .dataframe thead th {\n",
       "        text-align: right;\n",
       "    }\n",
       "</style>\n",
       "<table border=\"1\" class=\"dataframe\">\n",
       "  <thead>\n",
       "    <tr style=\"text-align: right;\">\n",
       "      <th></th>\n",
       "      <th>country</th>\n",
       "      <th>continent</th>\n",
       "      <th>year</th>\n",
       "      <th>lifeExp</th>\n",
       "      <th>pop</th>\n",
       "      <th>gdpPercap</th>\n",
       "    </tr>\n",
       "  </thead>\n",
       "  <tbody>\n",
       "    <tr>\n",
       "      <th>0</th>\n",
       "      <td>Afghanistan</td>\n",
       "      <td>Asia</td>\n",
       "      <td>1952</td>\n",
       "      <td>28.801</td>\n",
       "      <td>8425333</td>\n",
       "      <td>779.445314</td>\n",
       "    </tr>\n",
       "    <tr>\n",
       "      <th>1</th>\n",
       "      <td>Afghanistan</td>\n",
       "      <td>Asia</td>\n",
       "      <td>1957</td>\n",
       "      <td>30.332</td>\n",
       "      <td>9240934</td>\n",
       "      <td>820.853030</td>\n",
       "    </tr>\n",
       "    <tr>\n",
       "      <th>2</th>\n",
       "      <td>Afghanistan</td>\n",
       "      <td>Asia</td>\n",
       "      <td>1962</td>\n",
       "      <td>31.997</td>\n",
       "      <td>10267083</td>\n",
       "      <td>853.100710</td>\n",
       "    </tr>\n",
       "    <tr>\n",
       "      <th>3</th>\n",
       "      <td>Afghanistan</td>\n",
       "      <td>Asia</td>\n",
       "      <td>1967</td>\n",
       "      <td>34.020</td>\n",
       "      <td>11537966</td>\n",
       "      <td>836.197138</td>\n",
       "    </tr>\n",
       "    <tr>\n",
       "      <th>4</th>\n",
       "      <td>Afghanistan</td>\n",
       "      <td>Asia</td>\n",
       "      <td>1972</td>\n",
       "      <td>36.088</td>\n",
       "      <td>13079460</td>\n",
       "      <td>739.981106</td>\n",
       "    </tr>\n",
       "  </tbody>\n",
       "</table>\n",
       "</div>"
      ],
      "text/plain": [
       "       country continent  year  lifeExp       pop   gdpPercap\n",
       "0  Afghanistan      Asia  1952   28.801   8425333  779.445314\n",
       "1  Afghanistan      Asia  1957   30.332   9240934  820.853030\n",
       "2  Afghanistan      Asia  1962   31.997  10267083  853.100710\n",
       "3  Afghanistan      Asia  1967   34.020  11537966  836.197138\n",
       "4  Afghanistan      Asia  1972   36.088  13079460  739.981106"
      ]
     },
     "execution_count": 10,
     "metadata": {},
     "output_type": "execute_result"
    }
   ],
   "source": [
    "gapminder.head()"
   ]
  },
  {
   "cell_type": "code",
   "execution_count": 12,
   "id": "a0ecc303-d154-4f97-aef6-6536d861dfc0",
   "metadata": {},
   "outputs": [
    {
     "data": {
      "text/plain": [
       "array(['Asia', 'Europe', 'Africa', 'Americas', 'Oceania'], dtype=object)"
      ]
     },
     "execution_count": 12,
     "metadata": {},
     "output_type": "execute_result"
    }
   ],
   "source": [
    "gapminder['continent'].unique()"
   ]
  },
  {
   "cell_type": "code",
   "execution_count": 15,
   "id": "e85e08fe-7b17-473d-b0b2-0005b3600dd4",
   "metadata": {},
   "outputs": [
    {
     "data": {
      "text/plain": [
       "Africa      624\n",
       "Asia        396\n",
       "Europe      360\n",
       "Americas    300\n",
       "Oceania      24\n",
       "Name: continent, dtype: int64"
      ]
     },
     "execution_count": 15,
     "metadata": {},
     "output_type": "execute_result"
    }
   ],
   "source": [
    "gapminder['continent'].value_counts()"
   ]
  },
  {
   "cell_type": "markdown",
   "id": "074e478b-821a-4fcb-ac66-c1008295654f",
   "metadata": {},
   "source": [
    "# 데이터 그룹화 (groupby)"
   ]
  },
  {
   "cell_type": "markdown",
   "id": "a7b2eb3b-9ada-4eb1-980f-8bd4f61451e8",
   "metadata": {},
   "source": [
    "****"
   ]
  },
  {
   "cell_type": "markdown",
   "id": "bb0f3ebf-6328-4959-9598-e914ec96db82",
   "metadata": {},
   "source": [
    "**목적**: 데이터프레임을 특정 열을 기준으로 그룹화하여 그룹 단위로 연산을 수행합니다.  \n",
    "**사용 사례**: 그룹화된 데이터에 대한 통계 또는 집계 연산을 수행할 때 사용됩니다. 예를 들어, 각 그룹에 대한 평균, 합계, 카운트 등을 계산할 수 있습니다.  \n",
    "\n",
    "**집계함수 종류** : mean(), min(), max(), nunique(), value_counts(), count()\n",
    "```python\n",
    "DataFrame.groupby(by=None, axis=_NoDefault.no_default, sort=True, group_keys=True, dropna=True)\n",
    "```\n",
    "`dropna` 매개변수를 설정하여 그룹에 NA를 포함할지 여부를 선택할 수 있습니다. (기본 설정은 True 입니다.)\n",
    "\n",
    "```python\n",
    "데이터프레임.groupby('그룹화하고싶은열')['계산하고싶은열'].집계함수()\n",
    "데이터프레임.groupby(['그룹화하고싶은열1','그룹화하고싶은열2'])[['계산하고싶은열1','계산하고싶은열1']].집계함수()\n",
    "데이터프레임.groupby('그룹화하고싶은열').agg()\n",
    "데이터프레임.groupby('그룹화하고싶은열').apply(lambda x: x)\n",
    "```"
   ]
  },
  {
   "cell_type": "markdown",
   "id": "42a97ce4-f311-4710-af4f-0c2bbc117bc3",
   "metadata": {},
   "source": [
    "## 그룹화한 데이터의 평균 구하기"
   ]
  },
  {
   "cell_type": "code",
   "execution_count": 25,
   "id": "2c21e29c-5b14-4bb9-bbef-5aed4b90b1e8",
   "metadata": {
    "tags": []
   },
   "outputs": [
    {
     "data": {
      "text/html": [
       "<div>\n",
       "<style scoped>\n",
       "    .dataframe tbody tr th:only-of-type {\n",
       "        vertical-align: middle;\n",
       "    }\n",
       "\n",
       "    .dataframe tbody tr th {\n",
       "        vertical-align: top;\n",
       "    }\n",
       "\n",
       "    .dataframe thead th {\n",
       "        text-align: right;\n",
       "    }\n",
       "</style>\n",
       "<table border=\"1\" class=\"dataframe\">\n",
       "  <thead>\n",
       "    <tr style=\"text-align: right;\">\n",
       "      <th></th>\n",
       "      <th>country</th>\n",
       "      <th>continent</th>\n",
       "      <th>year</th>\n",
       "      <th>lifeExp</th>\n",
       "      <th>pop</th>\n",
       "      <th>gdpPercap</th>\n",
       "    </tr>\n",
       "  </thead>\n",
       "  <tbody>\n",
       "    <tr>\n",
       "      <th>0</th>\n",
       "      <td>Afghanistan</td>\n",
       "      <td>Asia</td>\n",
       "      <td>1952</td>\n",
       "      <td>28.801</td>\n",
       "      <td>8425333</td>\n",
       "      <td>779.445314</td>\n",
       "    </tr>\n",
       "    <tr>\n",
       "      <th>1</th>\n",
       "      <td>Afghanistan</td>\n",
       "      <td>Asia</td>\n",
       "      <td>1957</td>\n",
       "      <td>30.332</td>\n",
       "      <td>9240934</td>\n",
       "      <td>820.853030</td>\n",
       "    </tr>\n",
       "    <tr>\n",
       "      <th>2</th>\n",
       "      <td>Afghanistan</td>\n",
       "      <td>Asia</td>\n",
       "      <td>1962</td>\n",
       "      <td>31.997</td>\n",
       "      <td>10267083</td>\n",
       "      <td>853.100710</td>\n",
       "    </tr>\n",
       "    <tr>\n",
       "      <th>3</th>\n",
       "      <td>Afghanistan</td>\n",
       "      <td>Asia</td>\n",
       "      <td>1967</td>\n",
       "      <td>34.020</td>\n",
       "      <td>11537966</td>\n",
       "      <td>836.197138</td>\n",
       "    </tr>\n",
       "    <tr>\n",
       "      <th>4</th>\n",
       "      <td>Afghanistan</td>\n",
       "      <td>Asia</td>\n",
       "      <td>1972</td>\n",
       "      <td>36.088</td>\n",
       "      <td>13079460</td>\n",
       "      <td>739.981106</td>\n",
       "    </tr>\n",
       "  </tbody>\n",
       "</table>\n",
       "</div>"
      ],
      "text/plain": [
       "       country continent  year  lifeExp       pop   gdpPercap\n",
       "0  Afghanistan      Asia  1952   28.801   8425333  779.445314\n",
       "1  Afghanistan      Asia  1957   30.332   9240934  820.853030\n",
       "2  Afghanistan      Asia  1962   31.997  10267083  853.100710\n",
       "3  Afghanistan      Asia  1967   34.020  11537966  836.197138\n",
       "4  Afghanistan      Asia  1972   36.088  13079460  739.981106"
      ]
     },
     "execution_count": 25,
     "metadata": {},
     "output_type": "execute_result"
    }
   ],
   "source": [
    "gapminder.head()"
   ]
  },
  {
   "cell_type": "markdown",
   "id": "a1bf57b9-af10-4534-96f2-1cc37be484d7",
   "metadata": {},
   "source": [
    "**1. year에 따른 lifeExp의 평균값을 구하세요.**"
   ]
  },
  {
   "cell_type": "code",
   "execution_count": null,
   "id": "dccc6186-a84d-405a-a5c9-eb81587fa564",
   "metadata": {},
   "outputs": [],
   "source": [
    "# 아래에 코드를 작성 후 실행해 보세요.\n"
   ]
  },
  {
   "cell_type": "markdown",
   "id": "7b18fbee-74dd-46f8-934f-68d4e9b163cf",
   "metadata": {},
   "source": [
    "**2. year과 continent에 따른 lifeExp와 gdpPercap의 평균값을 구하세요.**"
   ]
  },
  {
   "cell_type": "code",
   "execution_count": null,
   "id": "29686284-f749-4388-a47c-ce6a7e31c507",
   "metadata": {},
   "outputs": [],
   "source": [
    "# 아래에 코드를 작성 후 실행해 보세요.\n"
   ]
  },
  {
   "cell_type": "markdown",
   "id": "837c8e07-a36e-45b9-bf87-3c11e75399aa",
   "metadata": {},
   "source": [
    "## 그룹화한 데이터 개수 세기"
   ]
  },
  {
   "cell_type": "markdown",
   "id": "d8c45815-02a1-4c47-85ca-62423e68881a",
   "metadata": {},
   "source": [
    "**1. countinent별 속한 country의 행의 개수를 구하세요**"
   ]
  },
  {
   "cell_type": "code",
   "execution_count": 19,
   "id": "91c98fb6-5b15-4745-92ca-ca3957618347",
   "metadata": {},
   "outputs": [],
   "source": [
    "# 아래에 코드를 작성 후 실행해 보세요.\n"
   ]
  },
  {
   "cell_type": "markdown",
   "id": "bc6cda62-65bf-4e62-8605-88514e8e1ea7",
   "metadata": {},
   "source": [
    "**2. continent에서 country의 데이터 개수를 출력하세요**"
   ]
  },
  {
   "cell_type": "code",
   "execution_count": null,
   "id": "519c1cae-cd4f-46b6-88da-fc16cbf87921",
   "metadata": {},
   "outputs": [],
   "source": [
    "# 아래에 코드를 작성 후 실행해 보세요.\n"
   ]
  },
  {
   "cell_type": "markdown",
   "id": "54a5e87d-50c4-45af-ae39-6448397ddf96",
   "metadata": {},
   "source": [
    "**3. continent별로 고유한 country의 수를 구하시오**"
   ]
  },
  {
   "cell_type": "code",
   "execution_count": null,
   "id": "5734b2eb-58a7-41e7-ab90-d49d79802e89",
   "metadata": {},
   "outputs": [],
   "source": [
    "# 아래에 코드를 작성 후 실행해 보세요.\n"
   ]
  },
  {
   "cell_type": "markdown",
   "id": "c9a16558-2aab-46e5-b5c2-609a28c9c06d",
   "metadata": {},
   "source": [
    "## 다중 통계량 구하기"
   ]
  },
  {
   "cell_type": "markdown",
   "id": "49965e13-94ce-490c-801a-70811d8dbe2b",
   "metadata": {},
   "source": [
    "**1. year별 lifeExp의 평균값과 분산값을 구하세요**"
   ]
  },
  {
   "cell_type": "code",
   "execution_count": null,
   "id": "a0d2ead9-ac95-406d-b1b0-18251bc22c69",
   "metadata": {},
   "outputs": [],
   "source": [
    "# 아래에 코드를 작성 후 실행해 보세요.\n"
   ]
  },
  {
   "cell_type": "markdown",
   "id": "f7c4d18d-4361-4901-b295-ed45f72afb83",
   "metadata": {},
   "source": [
    "## Apply로 사용자 정의 함수를 적용하기 "
   ]
  },
  {
   "cell_type": "code",
   "execution_count": 32,
   "id": "be2582c1-dcdc-4262-b5c4-1242a97ce004",
   "metadata": {},
   "outputs": [],
   "source": [
    "def get_top5(x):\n",
    "    return x.sort_values('lifeExp').head()"
   ]
  },
  {
   "cell_type": "code",
   "execution_count": 33,
   "id": "03dbe50b-8b8a-46be-97f3-aa5e76f38cc3",
   "metadata": {},
   "outputs": [
    {
     "data": {
      "text/html": [
       "<div>\n",
       "<style scoped>\n",
       "    .dataframe tbody tr th:only-of-type {\n",
       "        vertical-align: middle;\n",
       "    }\n",
       "\n",
       "    .dataframe tbody tr th {\n",
       "        vertical-align: top;\n",
       "    }\n",
       "\n",
       "    .dataframe thead th {\n",
       "        text-align: right;\n",
       "    }\n",
       "</style>\n",
       "<table border=\"1\" class=\"dataframe\">\n",
       "  <thead>\n",
       "    <tr style=\"text-align: right;\">\n",
       "      <th></th>\n",
       "      <th></th>\n",
       "      <th>country</th>\n",
       "      <th>continent</th>\n",
       "      <th>year</th>\n",
       "      <th>lifeExp</th>\n",
       "      <th>pop</th>\n",
       "      <th>gdpPercap</th>\n",
       "    </tr>\n",
       "    <tr>\n",
       "      <th>country</th>\n",
       "      <th></th>\n",
       "      <th></th>\n",
       "      <th></th>\n",
       "      <th></th>\n",
       "      <th></th>\n",
       "      <th></th>\n",
       "      <th></th>\n",
       "    </tr>\n",
       "  </thead>\n",
       "  <tbody>\n",
       "    <tr>\n",
       "      <th rowspan=\"5\" valign=\"top\">Afghanistan</th>\n",
       "      <th>0</th>\n",
       "      <td>Afghanistan</td>\n",
       "      <td>Asia</td>\n",
       "      <td>1952</td>\n",
       "      <td>28.801</td>\n",
       "      <td>8425333</td>\n",
       "      <td>779.445314</td>\n",
       "    </tr>\n",
       "    <tr>\n",
       "      <th>1</th>\n",
       "      <td>Afghanistan</td>\n",
       "      <td>Asia</td>\n",
       "      <td>1957</td>\n",
       "      <td>30.332</td>\n",
       "      <td>9240934</td>\n",
       "      <td>820.853030</td>\n",
       "    </tr>\n",
       "    <tr>\n",
       "      <th>2</th>\n",
       "      <td>Afghanistan</td>\n",
       "      <td>Asia</td>\n",
       "      <td>1962</td>\n",
       "      <td>31.997</td>\n",
       "      <td>10267083</td>\n",
       "      <td>853.100710</td>\n",
       "    </tr>\n",
       "    <tr>\n",
       "      <th>3</th>\n",
       "      <td>Afghanistan</td>\n",
       "      <td>Asia</td>\n",
       "      <td>1967</td>\n",
       "      <td>34.020</td>\n",
       "      <td>11537966</td>\n",
       "      <td>836.197138</td>\n",
       "    </tr>\n",
       "    <tr>\n",
       "      <th>4</th>\n",
       "      <td>Afghanistan</td>\n",
       "      <td>Asia</td>\n",
       "      <td>1972</td>\n",
       "      <td>36.088</td>\n",
       "      <td>13079460</td>\n",
       "      <td>739.981106</td>\n",
       "    </tr>\n",
       "    <tr>\n",
       "      <th>...</th>\n",
       "      <th>...</th>\n",
       "      <td>...</td>\n",
       "      <td>...</td>\n",
       "      <td>...</td>\n",
       "      <td>...</td>\n",
       "      <td>...</td>\n",
       "      <td>...</td>\n",
       "    </tr>\n",
       "    <tr>\n",
       "      <th rowspan=\"5\" valign=\"top\">Zimbabwe</th>\n",
       "      <th>1702</th>\n",
       "      <td>Zimbabwe</td>\n",
       "      <td>Africa</td>\n",
       "      <td>2002</td>\n",
       "      <td>39.989</td>\n",
       "      <td>11926563</td>\n",
       "      <td>672.038623</td>\n",
       "    </tr>\n",
       "    <tr>\n",
       "      <th>1703</th>\n",
       "      <td>Zimbabwe</td>\n",
       "      <td>Africa</td>\n",
       "      <td>2007</td>\n",
       "      <td>43.487</td>\n",
       "      <td>12311143</td>\n",
       "      <td>469.709298</td>\n",
       "    </tr>\n",
       "    <tr>\n",
       "      <th>1701</th>\n",
       "      <td>Zimbabwe</td>\n",
       "      <td>Africa</td>\n",
       "      <td>1997</td>\n",
       "      <td>46.809</td>\n",
       "      <td>11404948</td>\n",
       "      <td>792.449960</td>\n",
       "    </tr>\n",
       "    <tr>\n",
       "      <th>1692</th>\n",
       "      <td>Zimbabwe</td>\n",
       "      <td>Africa</td>\n",
       "      <td>1952</td>\n",
       "      <td>48.451</td>\n",
       "      <td>3080907</td>\n",
       "      <td>406.884115</td>\n",
       "    </tr>\n",
       "    <tr>\n",
       "      <th>1693</th>\n",
       "      <td>Zimbabwe</td>\n",
       "      <td>Africa</td>\n",
       "      <td>1957</td>\n",
       "      <td>50.469</td>\n",
       "      <td>3646340</td>\n",
       "      <td>518.764268</td>\n",
       "    </tr>\n",
       "  </tbody>\n",
       "</table>\n",
       "<p>710 rows × 6 columns</p>\n",
       "</div>"
      ],
      "text/plain": [
       "                      country continent  year  lifeExp       pop   gdpPercap\n",
       "country                                                                     \n",
       "Afghanistan 0     Afghanistan      Asia  1952   28.801   8425333  779.445314\n",
       "            1     Afghanistan      Asia  1957   30.332   9240934  820.853030\n",
       "            2     Afghanistan      Asia  1962   31.997  10267083  853.100710\n",
       "            3     Afghanistan      Asia  1967   34.020  11537966  836.197138\n",
       "            4     Afghanistan      Asia  1972   36.088  13079460  739.981106\n",
       "...                       ...       ...   ...      ...       ...         ...\n",
       "Zimbabwe    1702     Zimbabwe    Africa  2002   39.989  11926563  672.038623\n",
       "            1703     Zimbabwe    Africa  2007   43.487  12311143  469.709298\n",
       "            1701     Zimbabwe    Africa  1997   46.809  11404948  792.449960\n",
       "            1692     Zimbabwe    Africa  1952   48.451   3080907  406.884115\n",
       "            1693     Zimbabwe    Africa  1957   50.469   3646340  518.764268\n",
       "\n",
       "[710 rows x 6 columns]"
      ]
     },
     "execution_count": 33,
     "metadata": {},
     "output_type": "execute_result"
    }
   ],
   "source": [
    "gapminder.groupby('country').apply(get_top5)"
   ]
  },
  {
   "cell_type": "markdown",
   "id": "7fd973d9-10b2-447e-8c9b-6a1a955bcef4",
   "metadata": {
    "tags": []
   },
   "source": [
    "# 데이터의 재구조화"
   ]
  },
  {
   "cell_type": "markdown",
   "id": "6f9dbbf1-ca98-46d8-b62c-6dd6c4a20d03",
   "metadata": {},
   "source": [
    "****"
   ]
  },
  {
   "cell_type": "markdown",
   "id": "b3eecc56-1e99-48e2-a269-6d770da6e8bc",
   "metadata": {},
   "source": [
    "## Pivot\n",
    "\n",
    "**목적:** 데이터를 편하게 보기 위해 사용!   \n",
    "**사용 사례:** 데이터의 column을 index, columns, values로 설정하여 데이터를 펼칠 수 있습니다.  \n",
    "\n",
    "```python\n",
    "data.pivot(index, columns, values)\n",
    "pd.pivot_table(data, index, columns, values, aggfunc)\n",
    "```\n",
    "\n",
    "`index`: Index로 보낼 column (index를 설정하지 않으면 기존 index로 정해짐)  \n",
    "`columns`: columns 값으로 보낼 column  \n",
    "`values`: value 값으로 보낼 column"
   ]
  },
  {
   "cell_type": "markdown",
   "id": "ae0545a2-ad03-41be-b5e3-14e0466816ee",
   "metadata": {},
   "source": [
    "**1. gapminder 데이터에서  'continent'와 'country'에 따른 각 연도별 'lifeExp' 값을 가지는 데이터프레임을 생성해보세요.**"
   ]
  },
  {
   "cell_type": "code",
   "execution_count": null,
   "id": "c4387c48-990c-4d66-900e-f90334520b22",
   "metadata": {},
   "outputs": [],
   "source": [
    "# 아래에 코드를 작성 후 실행해 보세요.\n"
   ]
  },
  {
   "cell_type": "markdown",
   "id": "0ccf9c2b-e26f-4944-a29c-197870bcec76",
   "metadata": {},
   "source": [
    "**2. gapminder 데이터에서 'year'에 따른 각 연도별 'lifeExp' 값을 가지는 데이터프레임을 생성해보세요.**"
   ]
  },
  {
   "cell_type": "code",
   "execution_count": null,
   "id": "14461437-e9d8-48d7-9418-0d037c6e3731",
   "metadata": {},
   "outputs": [],
   "source": [
    "# 아래에 코드를 작성 후 실행해 보세요.\n"
   ]
  },
  {
   "cell_type": "markdown",
   "id": "633e7bd5-fc73-4bcb-ab3c-9f0030ed0560",
   "metadata": {},
   "source": [
    "## Melt\n",
    "**목적**: DataFrame의 형태를 변경하여 'wide' 형식을 'long' 형식으로 변환합니다.  \n",
    "**사용 사례**: 열 이름이 변수를 나타내고 열 값이 해당 변수의 관측치를 나타낼 때 사용됩니다. 주로 데이터 정리 및 시각화에 유용합니다.\n",
    "\n",
    "```python\n",
    "pd.melt(data, id_vars, var_name, value_name)\n",
    "```\n",
    "`data`: melt를 진행할 DataFrame 지정  \n",
    "`id_vars`: 위치를 그대로 유지할 column의 이름을 지정 (None이면 id_vars를 뺀 나머지 column으로 자동 지정)  \n",
    "`var_name`: unpivot할 column 이름 지정 (None이면 variable을 이름으로 함)  \n",
    "`value_name`: value column 이름 지정 (None이면 value로 지정됨)"
   ]
  },
  {
   "cell_type": "code",
   "execution_count": 3,
   "id": "dd31d08c-17a1-4f6b-bbb5-e9c3f8099be4",
   "metadata": {},
   "outputs": [
    {
     "data": {
      "text/html": [
       "<div>\n",
       "<style scoped>\n",
       "    .dataframe tbody tr th:only-of-type {\n",
       "        vertical-align: middle;\n",
       "    }\n",
       "\n",
       "    .dataframe tbody tr th {\n",
       "        vertical-align: top;\n",
       "    }\n",
       "\n",
       "    .dataframe thead th {\n",
       "        text-align: right;\n",
       "    }\n",
       "</style>\n",
       "<table border=\"1\" class=\"dataframe\">\n",
       "  <thead>\n",
       "    <tr style=\"text-align: right;\">\n",
       "      <th></th>\n",
       "      <th>religion</th>\n",
       "      <th>&lt;$10k</th>\n",
       "      <th>$10-20k</th>\n",
       "      <th>$20-30k</th>\n",
       "      <th>$30-40k</th>\n",
       "      <th>$40-50k</th>\n",
       "      <th>$50-75k</th>\n",
       "      <th>$75-100k</th>\n",
       "      <th>$100-150k</th>\n",
       "      <th>&gt;150k</th>\n",
       "      <th>Don't know/refused</th>\n",
       "    </tr>\n",
       "  </thead>\n",
       "  <tbody>\n",
       "    <tr>\n",
       "      <th>0</th>\n",
       "      <td>Agnostic</td>\n",
       "      <td>27</td>\n",
       "      <td>34</td>\n",
       "      <td>60</td>\n",
       "      <td>81</td>\n",
       "      <td>76</td>\n",
       "      <td>137</td>\n",
       "      <td>122</td>\n",
       "      <td>109</td>\n",
       "      <td>84</td>\n",
       "      <td>96</td>\n",
       "    </tr>\n",
       "    <tr>\n",
       "      <th>1</th>\n",
       "      <td>Atheist</td>\n",
       "      <td>12</td>\n",
       "      <td>27</td>\n",
       "      <td>37</td>\n",
       "      <td>52</td>\n",
       "      <td>35</td>\n",
       "      <td>70</td>\n",
       "      <td>73</td>\n",
       "      <td>59</td>\n",
       "      <td>74</td>\n",
       "      <td>76</td>\n",
       "    </tr>\n",
       "    <tr>\n",
       "      <th>2</th>\n",
       "      <td>Buddhist</td>\n",
       "      <td>27</td>\n",
       "      <td>21</td>\n",
       "      <td>30</td>\n",
       "      <td>34</td>\n",
       "      <td>33</td>\n",
       "      <td>58</td>\n",
       "      <td>62</td>\n",
       "      <td>39</td>\n",
       "      <td>53</td>\n",
       "      <td>54</td>\n",
       "    </tr>\n",
       "    <tr>\n",
       "      <th>3</th>\n",
       "      <td>Catholic</td>\n",
       "      <td>418</td>\n",
       "      <td>617</td>\n",
       "      <td>732</td>\n",
       "      <td>670</td>\n",
       "      <td>638</td>\n",
       "      <td>1116</td>\n",
       "      <td>949</td>\n",
       "      <td>792</td>\n",
       "      <td>633</td>\n",
       "      <td>1489</td>\n",
       "    </tr>\n",
       "    <tr>\n",
       "      <th>4</th>\n",
       "      <td>Don’t know/refused</td>\n",
       "      <td>15</td>\n",
       "      <td>14</td>\n",
       "      <td>15</td>\n",
       "      <td>11</td>\n",
       "      <td>10</td>\n",
       "      <td>35</td>\n",
       "      <td>21</td>\n",
       "      <td>17</td>\n",
       "      <td>18</td>\n",
       "      <td>116</td>\n",
       "    </tr>\n",
       "  </tbody>\n",
       "</table>\n",
       "</div>"
      ],
      "text/plain": [
       "             religion  <$10k  $10-20k  $20-30k  $30-40k  $40-50k  $50-75k  \\\n",
       "0            Agnostic     27       34       60       81       76      137   \n",
       "1             Atheist     12       27       37       52       35       70   \n",
       "2            Buddhist     27       21       30       34       33       58   \n",
       "3            Catholic    418      617      732      670      638     1116   \n",
       "4  Don’t know/refused     15       14       15       11       10       35   \n",
       "\n",
       "   $75-100k  $100-150k  >150k  Don't know/refused  \n",
       "0       122        109     84                  96  \n",
       "1        73         59     74                  76  \n",
       "2        62         39     53                  54  \n",
       "3       949        792    633                1489  \n",
       "4        21         17     18                 116  "
      ]
     },
     "execution_count": 3,
     "metadata": {},
     "output_type": "execute_result"
    }
   ],
   "source": [
    "pew = pd.read_csv('./datafile/pew.csv')\n",
    "pew.head()"
   ]
  },
  {
   "cell_type": "markdown",
   "id": "31a76801-efb7-4d42-a25c-976ada121baf",
   "metadata": {},
   "source": [
    "**1. 11개의 소득정보 열을 행으로 옮기려고 합니다. religion 열을 고정해서 pivot 해보세요**"
   ]
  },
  {
   "cell_type": "code",
   "execution_count": null,
   "id": "1565adb9-5549-44d5-87fd-7d08cdc23d36",
   "metadata": {},
   "outputs": [],
   "source": [
    "# 아래에 코드를 작성 후 실행해 보세요.\n"
   ]
  },
  {
   "cell_type": "markdown",
   "id": "c05458fd-9d60-4bf5-b200-63767d015fd5",
   "metadata": {},
   "source": [
    "**2. pivoting 된 var 열의 이름과 value 열의 이름을 melt 함수에서 변경해보세요**"
   ]
  },
  {
   "cell_type": "code",
   "execution_count": null,
   "id": "b8384bf2-2de6-4d09-9849-567e003b4d4b",
   "metadata": {},
   "outputs": [],
   "source": [
    "# 아래에 코드를 작성 후 실행해 보세요.\n"
   ]
  },
  {
   "cell_type": "markdown",
   "id": "e4dac934-59fb-413f-982e-4a386cf967cf",
   "metadata": {},
   "source": [
    "# 시각화"
   ]
  },
  {
   "cell_type": "markdown",
   "id": "22c4ed12-bfb8-463b-b183-586506d9c050",
   "metadata": {},
   "source": [
    "****"
   ]
  },
  {
   "cell_type": "markdown",
   "id": "533af3c1-9235-4945-a948-d0870d4b96b9",
   "metadata": {},
   "source": [
    "## Bar plot\n",
    "* 범주형 변수 1개와 숫자형 변수 1개를 시각화할 때 쓰임"
   ]
  },
  {
   "cell_type": "markdown",
   "id": "93737c0e",
   "metadata": {},
   "source": [
    "**한국에서 년도별 인구수**"
   ]
  },
  {
   "cell_type": "code",
   "execution_count": 58,
   "id": "ea05ab20",
   "metadata": {},
   "outputs": [],
   "source": [
    "kor_df = gapminder[gapminder['country']=='Korea, Rep.']"
   ]
  },
  {
   "cell_type": "code",
   "execution_count": 59,
   "id": "59755851",
   "metadata": {},
   "outputs": [
    {
     "data": {
      "text/plain": [
       "<Axes: xlabel='year'>"
      ]
     },
     "execution_count": 59,
     "metadata": {},
     "output_type": "execute_result"
    },
    {
     "data": {
      "image/png": "[encoded data removed]",
      "text/plain": [
       "<Figure size 640x480 with 1 Axes>"
      ]
     },
     "metadata": {},
     "output_type": "display_data"
    }
   ],
   "source": [
    "kor_df.plot(x='year', y='pop', kind='bar', color='skyblue', edgecolor='black')"
   ]
  },
  {
   "cell_type": "markdown",
   "id": "f92a9339-54d4-442b-a376-11112ff636d3",
   "metadata": {},
   "source": [
    "## 히스토그램\n",
    "* 숫자형 변수 1개를 시각화할 때 쓰임"
   ]
  },
  {
   "cell_type": "markdown",
   "id": "15eaa99f",
   "metadata": {},
   "source": [
    "**기대수명의 분포**"
   ]
  },
  {
   "cell_type": "code",
   "execution_count": 32,
   "id": "c9b2ddbf",
   "metadata": {},
   "outputs": [
    {
     "data": {
      "text/plain": [
       "<Axes: ylabel='Frequency'>"
      ]
     },
     "execution_count": 32,
     "metadata": {},
     "output_type": "execute_result"
    },
    {
     "data": {
      "image/png": "[encoded data removed]",
      "text/plain": [
       "<Figure size 640x480 with 1 Axes>"
      ]
     },
     "metadata": {},
     "output_type": "display_data"
    }
   ],
   "source": [
    "gapminder['lifeExp'].plot(kind='hist', bins=30, edgecolor='black')"
   ]
  },
  {
   "cell_type": "markdown",
   "id": "75a175a3-9123-4e1f-a859-9f003c59604d",
   "metadata": {},
   "source": [
    "## 박스플롯\n",
    "* 숫자형 변수를 시각화할 때 쓰임"
   ]
  },
  {
   "cell_type": "markdown",
   "id": "4769cd82",
   "metadata": {},
   "source": [
    "**대륙별 기대수명의 분포의 비교**"
   ]
  },
  {
   "cell_type": "code",
   "execution_count": 56,
   "id": "b389f497-026d-4108-9597-3ac528018538",
   "metadata": {},
   "outputs": [
    {
     "data": {
      "text/plain": [
       "lifeExp    Axes(0.125,0.11;0.775x0.77)\n",
       "dtype: object"
      ]
     },
     "execution_count": 56,
     "metadata": {},
     "output_type": "execute_result"
    },
    {
     "data": {
      "image/png": "[encoded data removed]",
      "text/plain": [
       "<Figure size 640x480 with 1 Axes>"
      ]
     },
     "metadata": {},
     "output_type": "display_data"
    }
   ],
   "source": [
    "gapminder.plot(kind='box', column='lifeExp', by='continent')"
   ]
  },
  {
   "cell_type": "markdown",
   "id": "9a82ce21-a666-443d-8a06-54f5d194f393",
   "metadata": {},
   "source": [
    "## Scatter plot\n",
    "* 숫자형 변수가 2개를 시각화할 때 쓰임"
   ]
  },
  {
   "cell_type": "markdown",
   "id": "e6b40124",
   "metadata": {},
   "source": [
    "**1인당 국민 소득과 기대수명의 관계**"
   ]
  },
  {
   "cell_type": "code",
   "execution_count": 71,
   "id": "c670de15-d3d7-41e3-9736-1d9cec1f8cc0",
   "metadata": {},
   "outputs": [
    {
     "data": {
      "text/plain": [
       "<Axes: xlabel='gdpPercap', ylabel='lifeExp'>"
      ]
     },
     "execution_count": 71,
     "metadata": {},
     "output_type": "execute_result"
    },
    {
     "data": {
      "image/png": "[encoded data removed]",
      "text/plain": [
       "<Figure size 640x480 with 1 Axes>"
      ]
     },
     "metadata": {},
     "output_type": "display_data"
    }
   ],
   "source": [
    "df.plot(x='gdpPercap', y='lifeExp', kind='scatter')"
   ]
  }
 ],
 "metadata": {
  "kernelspec": {
   "display_name": "Python 3 (ipykernel)",
   "language": "python",
   "name": "python3"
  },
  "language_info": {
   "codemirror_mode": {
    "name": "ipython",
    "version": 3
   },
   "file_extension": ".py",
   "mimetype": "text/x-python",
   "name": "python",
   "nbconvert_exporter": "python",
   "pygments_lexer": "ipython3",
   "version": "3.10.9"
  }
 },
 "nbformat": 4,
 "nbformat_minor": 5
}
