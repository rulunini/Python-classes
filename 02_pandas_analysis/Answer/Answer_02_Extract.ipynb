{
 "cells": [
  {
   "cell_type": "markdown",
   "id": "ade89b0a-983e-4e9a-b108-59150997ca96",
   "metadata": {},
   "source": [
    "# Pandas 데이터 추출과 삭제"
   ]
  },
  {
   "cell_type": "markdown",
   "id": "fee86ce8-4d24-4108-914e-bfe12237560e",
   "metadata": {},
   "source": [
    "****"
   ]
  },
  {
   "cell_type": "markdown",
   "id": "f03ca7d6-2b44-4095-a194-0ad621aeb74f",
   "metadata": {},
   "source": [
    "**발표자**  \n",
    "(주)인실리코젠 DSC 박소희\n",
    "\n",
    "**내용**  \n",
    "1. 열 단위 데이터 추출 \n",
    "    * Series 개념 이해\n",
    "    * Dataframe 개념 이해\n",
    "2. 행 단위 데이터 추출 \n",
    "    * loc\n",
    "    * iloc\n",
    "3. 행 또는 열 단위 삭제\n",
    "4. 행과 열 추출 연습\n",
    "\n",
    "**데이터 셋**  \n",
    "gapminder.tsv, scientists.csv"
   ]
  },
  {
   "cell_type": "code",
   "execution_count": 2,
   "id": "214c8135-73d2-47b8-8843-089712541ceb",
   "metadata": {
    "tags": []
   },
   "outputs": [],
   "source": [
    "import pandas as pd"
   ]
  },
  {
   "cell_type": "markdown",
   "id": "2d448dec-96b9-4fe7-b697-28410a4520f4",
   "metadata": {},
   "source": [
    "# 데이터 불러오기 "
   ]
  },
  {
   "cell_type": "markdown",
   "id": "bed36447-1790-4efd-8a4d-a8487cf86b9f",
   "metadata": {},
   "source": [
    "****"
   ]
  },
  {
   "cell_type": "markdown",
   "id": "d5466dab-5729-4c74-9a4f-94cc863ff11d",
   "metadata": {},
   "source": [
    "**1. 로컬에 저장된 gapminder.tsv 파일을 불러와 df라는 변수로 지정해주세요.**\n",
    "* Hint: pandas(pd)의 read_table을 활용해보세요."
   ]
  },
  {
   "cell_type": "code",
   "execution_count": 12,
   "id": "f2f8ae46-2eb4-40a7-93de-ce6e75f0ca18",
   "metadata": {},
   "outputs": [],
   "source": [
    "# 아래에 코드를 작성 후 실행해 보세요.\n",
    "df = pd.read_table('./datafile/gapminder.tsv')"
   ]
  },
  {
   "cell_type": "markdown",
   "id": "9ae32ab7-a17b-4186-903f-d64f48cfa97c",
   "metadata": {},
   "source": [
    "**2. gapminder 데이터의 변수들을 파악해보세요.** \n",
    "* Hint: 행과 열의 크기(shape), 변수명 확인(columns), 데이터프레임 미리보기(head(),tail()), 자료형 확인(dtypes, info())"
   ]
  },
  {
   "cell_type": "code",
   "execution_count": 4,
   "id": "3af066ed-4ab2-4b32-ad2f-91ff1745ad85",
   "metadata": {},
   "outputs": [],
   "source": [
    "# 아래에 코드를 작성 후 실행해 보세요.\n",
    "df.shape"
   ]
  },
  {
   "cell_type": "code",
   "execution_count": 6,
   "id": "592af500-2efe-4240-97e5-78f59c3fab88",
   "metadata": {},
   "outputs": [],
   "source": [
    "# 아래에 코드를 작성 후 실행해 보세요.\n",
    "df.columns"
   ]
  },
  {
   "cell_type": "code",
   "execution_count": 7,
   "id": "6c182558-2ac9-4e46-b0e2-6d92a4ca7b10",
   "metadata": {},
   "outputs": [],
   "source": [
    "# 아래에 코드를 작성 후 실행해 보세요.\n",
    "df.head()"
   ]
  },
  {
   "cell_type": "code",
   "execution_count": null,
   "id": "39d29a08-7dba-4846-888a-423ab88f8c4f",
   "metadata": {},
   "outputs": [],
   "source": [
    "# 아래에 코드를 작성 후 실행해 보세요.\n",
    "df.info()"
   ]
  },
  {
   "cell_type": "markdown",
   "id": "cb218461-207a-4a8e-bce3-b2a45c9b5ca6",
   "metadata": {},
   "source": [
    "**3. 로컬에 저장된 scientists.csv 파일을 불러와 변수 scientists로 지정해주세요.**\n",
    "* Hint: pandas(pd)의 read_csv를 활용해보세요.\n",
    "* Alert: 옵션으로 index_col=0을 입력해주세요."
   ]
  },
  {
   "cell_type": "code",
   "execution_count": null,
   "id": "c4f70197-cf15-45cf-b4e8-a1eac3d8231d",
   "metadata": {},
   "outputs": [],
   "source": [
    "# 아래에 코드를 작성 후 실행해 보세요.\n",
    "scientist = pd.read_csv('./datafile/scientists.csv', index_col=0)"
   ]
  },
  {
   "cell_type": "markdown",
   "id": "32a2fb91-b5f5-4466-885c-43035700036b",
   "metadata": {},
   "source": [
    "**4. scientists 데이터 변수들을 파악해보세요.**\n",
    "* Hint: 행과 열의 크기, 변수명 확인, 데이터프레임 미리보기, 자료형 확인"
   ]
  },
  {
   "cell_type": "code",
   "execution_count": 9,
   "id": "691010af-ff0b-4db7-bafa-7c9426e616d6",
   "metadata": {},
   "outputs": [],
   "source": [
    "# 아래에 코드를 작성 후 실행해 보세요.\n",
    "scientist.shape"
   ]
  },
  {
   "cell_type": "code",
   "execution_count": 10,
   "id": "83167a34-63c1-4c75-82a7-c16bbd50f1db",
   "metadata": {},
   "outputs": [],
   "source": [
    "# 아래에 코드를 작성 후 실행해 보세요.\n",
    "scientist.columns"
   ]
  },
  {
   "cell_type": "code",
   "execution_count": 11,
   "id": "a5849f4c-53b2-4498-bb6c-f0cea1295f6a",
   "metadata": {},
   "outputs": [],
   "source": [
    "# 아래에 코드를 작성 후 실행해 보세요.\n",
    "scientist.head()"
   ]
  },
  {
   "cell_type": "markdown",
   "id": "485d537c-d0fd-43bf-a884-5a835d524789",
   "metadata": {},
   "source": [
    "# 열 단위 데이터 추출"
   ]
  },
  {
   "cell_type": "markdown",
   "id": "2e775e47-f811-4137-8d9e-b76ca4fd3ce3",
   "metadata": {},
   "source": [
    "****"
   ]
  },
  {
   "cell_type": "markdown",
   "id": "5656021a-a7a3-4061-9ba0-502ac176866d",
   "metadata": {},
   "source": [
    "## Series\n",
    "- 일련의 객체를 담을 수 있는 1차원 배열\n",
    "- 각 요소마다 index를 가짐\n",
    "- Series끼리 산술연산 가능\n",
    "\n",
    "```python\n",
    "s = pd.Series(data, index=index)\n",
    "```\n",
    "\n",
    "`data`는 ndarray, dict, scalar 등 데이터를 입력  \n",
    "`index`는 축 이름을 지정"
   ]
  },
  {
   "cell_type": "markdown",
   "id": "dcf28bd4-8688-467f-b8f6-5d436132fc81",
   "metadata": {},
   "source": [
    "**1. gapminder 데이터에서 country 열만 불러와보세요.**"
   ]
  },
  {
   "cell_type": "code",
   "execution_count": 59,
   "id": "28498bfd-0967-4c5c-b85c-5b575067dee3",
   "metadata": {},
   "outputs": [],
   "source": [
    "# 아래에 코드를 작성 후 실행해 보세요.\n",
    "df['country']"
   ]
  },
  {
   "cell_type": "markdown",
   "id": "dfdb6a91-9177-4d7a-9f41-e04733e7c7f3",
   "metadata": {},
   "source": [
    "**2. gapminder 데이터에서 country 열의 데이터 유형을 출력해보세요.**\n",
    "* Hint: type() 함수를 활용해보세요"
   ]
  },
  {
   "cell_type": "code",
   "execution_count": null,
   "id": "9aab8e24-ca99-4205-b9cf-ec36daa8f71d",
   "metadata": {},
   "outputs": [],
   "source": [
    "# 아래에 코드를 작성 후 실행해 보세요.\n",
    "type(df['country'])"
   ]
  },
  {
   "cell_type": "markdown",
   "id": "c6fe2af2-da3e-4070-a05a-78d6f245d11a",
   "metadata": {},
   "source": [
    "## DataFrame\n",
    "- 행과 열을 가지는 스프레드시트 형식의 2차원 자료 구조\n",
    "- 열마다 다른 데이터 타입을 가질 수 있음\n",
    "- 행과 열에 대한 Index가 있음\n",
    "\n",
    "```python\n",
    "d = pd.DataFrame(data)\n",
    "```\n",
    "\n",
    "`data`는 여러가지 형태로 입력 가능"
   ]
  },
  {
   "cell_type": "markdown",
   "id": "fe5f957b-9077-411b-abc4-0261ceb194c7",
   "metadata": {},
   "source": [
    "**3. gapminder 데이터에서 country, continent, year 열을 subset이라는 변수로 지정해보세요.**"
   ]
  },
  {
   "cell_type": "code",
   "execution_count": 20,
   "id": "b1de3380-3edf-4452-8748-bcd057e4273f",
   "metadata": {},
   "outputs": [],
   "source": [
    "# 아래에 코드를 작성 후 실행해 보세요.\n",
    "subset = df[['country','continent','year']]"
   ]
  },
  {
   "cell_type": "markdown",
   "id": "35235d50-dc1f-49bc-bf6b-9d4dc55b9ebc",
   "metadata": {},
   "source": [
    "**4. gapminder 데이터에서 subset 변수의 유형을 출력해보세요.**"
   ]
  },
  {
   "cell_type": "code",
   "execution_count": 40,
   "id": "42c32eb5-cdc1-41a9-b256-0877bdec0a32",
   "metadata": {},
   "outputs": [],
   "source": [
    "# 아래에 코드를 작성 후 실행해 보세요.\n",
    "type(subset)"
   ]
  },
  {
   "cell_type": "markdown",
   "id": "c110a16c-ef00-4e11-9262-0ba1022ed216",
   "metadata": {},
   "source": [
    "# 행 단위 데이터 추출"
   ]
  },
  {
   "cell_type": "markdown",
   "id": "651fc4c2-2975-40ff-b659-e7e7c9ef81b8",
   "metadata": {},
   "source": [
    "****"
   ]
  },
  {
   "cell_type": "markdown",
   "id": "9b4f5f0e-868b-4239-b8ea-4ff641a8e664",
   "metadata": {},
   "source": [
    "## loc (label-based)\n",
    "* 인덱스를 기준으로 행 데이터 추출"
   ]
  },
  {
   "cell_type": "markdown",
   "id": "20850097-6310-41c9-90e3-ce5248e82ba4",
   "metadata": {},
   "source": [
    "**1. gapminder 데이터에서 0이라는 인덱스를 가진 행을 loc을 이용해 불러오세요.**"
   ]
  },
  {
   "cell_type": "code",
   "execution_count": 24,
   "id": "d5554dd3-cd13-433a-8d57-ccafb0263655",
   "metadata": {},
   "outputs": [],
   "source": [
    "# 아래에 코드를 작성 후 실행해 보세요.\n",
    "gapminder.loc[0]"
   ]
  },
  {
   "cell_type": "markdown",
   "id": "afb90257-4701-4f5a-aadd-da419bdcd703",
   "metadata": {},
   "source": [
    "****2. gapminder 데이터에서 0, 4, 109라는 인덱스를 가진 행을 loc을 이용해 불러와 인덱스를 리셋해주세요.****"
   ]
  },
  {
   "cell_type": "code",
   "execution_count": null,
   "id": "19472989-724e-4bb9-8d42-9331e989d884",
   "metadata": {},
   "outputs": [],
   "source": [
    "# 아래에 코드를 작성 후 실행해 보세요.\n",
    "gapminder.loc[[0,4,109]]"
   ]
  },
  {
   "cell_type": "code",
   "execution_count": null,
   "id": "50d2987a-e6c2-4e97-8b03-e416c5b0a392",
   "metadata": {},
   "outputs": [],
   "source": [
    "# 아래에 코드를 작성 후 실행해 보세요.\n",
    "gapminder.loc[[0,4,109]].reset_index()"
   ]
  },
  {
   "cell_type": "markdown",
   "id": "1b6f296c-0f2d-4274-8640-b55fb0c8a984",
   "metadata": {
    "tags": []
   },
   "source": [
    "### loc의 기능\n",
    "* index, values, keys "
   ]
  },
  {
   "cell_type": "code",
   "execution_count": 18,
   "id": "eb2c7dff-9bd3-42cb-91b1-0ad0f6e0f43f",
   "metadata": {},
   "outputs": [],
   "source": [
    "# scientists로 저장된 데이터프레임을 상위 5개 미리보기 출력해보세요.\n",
    "scientists.head()"
   ]
  },
  {
   "cell_type": "code",
   "execution_count": null,
   "id": "eba8b8c3-d9e2-41d5-add5-b915e8e930f5",
   "metadata": {},
   "outputs": [],
   "source": [
    "# loc은 index로 행 단위를 불러올 수 있습니다.\n",
    "# scientists 데이터프레임에서 loc로 Rosaline Franklin로 지정된 행을 불러오세요\n",
    "scientists.loc['William Gosset']"
   ]
  },
  {
   "cell_type": "code",
   "execution_count": null,
   "id": "f2c25820-cb9e-455e-a534-bf8cdce9de28",
   "metadata": {},
   "outputs": [],
   "source": [
    "# 위 코드에서 불러온 행의 유형을 확인해 보면,\n",
    "type(scientists.loc['Rosaline Franklin'])"
   ]
  },
  {
   "cell_type": "code",
   "execution_count": null,
   "id": "68b3d294-4ff0-4eef-9f95-11740351eff0",
   "metadata": {},
   "outputs": [],
   "source": [
    "# 위 코드에서 불러온 행의 인덱스 값을 추출할 수 있습니다.\n",
    "scientists.loc['Rosaline Franklin'].index"
   ]
  },
  {
   "cell_type": "code",
   "execution_count": null,
   "id": "819a78ff-ac70-4211-bd5b-ecc8e7f5f7c3",
   "metadata": {},
   "outputs": [],
   "source": [
    "# 위 코드에서 불러온 행에서 값을 추출할 수 있습니다.\n",
    "scientists.loc['Rosaline Franklin'].values"
   ]
  },
  {
   "cell_type": "code",
   "execution_count": null,
   "id": "72bbe1c7-6742-4403-a0c4-0dee2b9191f6",
   "metadata": {},
   "outputs": [],
   "source": [
    "# 위 코드에서 불러온 행에서 key 값을 추출할 수 있습니다.\n",
    "scientists.loc['Rosaline Franklin'].keys()"
   ]
  },
  {
   "cell_type": "code",
   "execution_count": null,
   "id": "b12495e3-57e2-43c7-ae6f-d80c7d7845d3",
   "metadata": {},
   "outputs": [],
   "source": [
    "# 위 코드에서 불러온 행에서 첫 번째 인덱스 값을 불러올 수 있습니다.\n",
    "# 파이썬은 0부터 시작합니다.\n",
    "scientists.loc['Rosaline Franklin'].index[0]"
   ]
  },
  {
   "cell_type": "markdown",
   "id": "25f046b9-b809-4e77-b372-5cc528bf57d5",
   "metadata": {},
   "source": [
    "## iloc (integer position-based)\n",
    "* 행 번호를 기준으로 행 데이터 추출"
   ]
  },
  {
   "cell_type": "markdown",
   "id": "c01f5435-e09e-4dc4-bb5b-c37f97f2a9a1",
   "metadata": {},
   "source": [
    "**1. gapminder 데이터에서 iloc을 이용해 첫 번째행을 추출해보세요**"
   ]
  },
  {
   "cell_type": "code",
   "execution_count": null,
   "id": "124ba844-d9b2-4250-ba82-207a1fc4be18",
   "metadata": {},
   "outputs": [],
   "source": [
    "# 아래에 코드를 작성 후 실행해 보세요.\n",
    "gapminder.iloc[0]"
   ]
  },
  {
   "cell_type": "markdown",
   "id": "c631aaf1-4483-45ee-a4d5-a9f16a4fa959",
   "metadata": {},
   "source": [
    "**2. gapminder 데이터에서 iloc을 이용해 마지막 번째 행을 추출해보세요**"
   ]
  },
  {
   "cell_type": "code",
   "execution_count": null,
   "id": "792ada49-6ee8-42ef-8247-50f41b49c482",
   "metadata": {},
   "outputs": [],
   "source": [
    "# 아래에 코드를 작성 후 실행해 보세요.\n",
    "gapminder.iloc[-1]"
   ]
  },
  {
   "cell_type": "markdown",
   "id": "24e87309-eea8-48ff-b830-6ad934a0a427",
   "metadata": {},
   "source": [
    "**3. gapminder 데이터에서 iloc을 이용해 0, 99, 마지막 번째 행을 추출해보세요**"
   ]
  },
  {
   "cell_type": "code",
   "execution_count": null,
   "id": "2cb552e7-7017-4c41-b59f-d342e17c4e1e",
   "metadata": {},
   "outputs": [],
   "source": [
    "# 아래에 코드를 작성 후 실행해 보세요.\n",
    "gapminder.iloc[[0, 99, -1]]"
   ]
  },
  {
   "cell_type": "markdown",
   "id": "ea6b691b-7de0-4779-a24f-9e44844e8080",
   "metadata": {},
   "source": [
    "**4. gapminder 데이터에서 iloc을 이용해 [전체 행, 첫 번째에서 두 번째 열]을 출력해보세요**"
   ]
  },
  {
   "cell_type": "code",
   "execution_count": 26,
   "id": "c3afc18e-907f-4bca-8a7b-cc3d648fb2f4",
   "metadata": {
    "tags": []
   },
   "outputs": [],
   "source": [
    "# 아래에 코드를 작성 후 실행해 보세요.\n",
    "gapminder.iloc[[:, 0:2]"
   ]
  },
  {
   "cell_type": "markdown",
   "id": "e2f4e5f8-0120-46f0-a4a6-28349a1cb1de",
   "metadata": {},
   "source": [
    "# 데이터 삭제"
   ]
  },
  {
   "cell_type": "markdown",
   "id": "8c92bfa3-fda7-4e68-a48a-0066d9e9edb3",
   "metadata": {},
   "source": [
    "****"
   ]
  },
  {
   "cell_type": "markdown",
   "id": "13ce4acd-a4a8-42c0-8acc-e575235514f2",
   "metadata": {},
   "source": [
    "레이블 이름과 해당 축을 지정하거나 인덱스 또는 열 이름을 직접 지정하여 행이나 열을 제거합니다. 다중 인덱스를 사용하는 경우 레벨을 지정하여 다른 레벨의 레이블을 제거할 수 있습니다.\n",
    "```python\n",
    "DataFrame.drop(labels=None, *, axis=0, index=None, columns=None, level=None, inplace=False, errors='raise')\n",
    "```"
   ]
  },
  {
   "cell_type": "code",
   "execution_count": null,
   "id": "517ae9bb-c6b3-4b50-ae43-101ae719e56d",
   "metadata": {},
   "outputs": [],
   "source": [
    "# 데이터 삭제 연습을 위해 scientists 데이터프레임을 사용합니다. 미리보기로 다시 확인해봅시다.\n",
    "scientists.head()"
   ]
  },
  {
   "cell_type": "markdown",
   "id": "2bb29296-91bb-4843-a562-4738ea3c356b",
   "metadata": {},
   "source": [
    "**Occupation 열을 삭제하면,**\n",
    "* axis=1은 열, axis=0은 행"
   ]
  },
  {
   "cell_type": "code",
   "execution_count": null,
   "id": "a33f34c1-e5e7-4e9a-85a8-7667184a1e31",
   "metadata": {},
   "outputs": [],
   "source": [
    "scientists.drop('Occupation', axis = 1)"
   ]
  },
  {
   "cell_type": "code",
   "execution_count": null,
   "id": "71a2d621-ff83-4c43-bc9b-912ed0cfe57c",
   "metadata": {},
   "outputs": [],
   "source": [
    "# 적용이 되었는지 확인해봅시다.\n",
    "scientists.head()"
   ]
  },
  {
   "cell_type": "markdown",
   "id": "d08cd06b-ad10-4409-a8d2-8cbfa6d6c321",
   "metadata": {},
   "source": [
    "**적용을 위해 또 다른 변수로 설정해줍니다.**"
   ]
  },
  {
   "cell_type": "code",
   "execution_count": null,
   "id": "7b0077cb-32a3-42bd-ae6d-e09f52cc4282",
   "metadata": {},
   "outputs": [],
   "source": [
    "dropped = scientists.drop('Occupation', axis = 1)\n",
    "dropped.head()"
   ]
  },
  {
   "cell_type": "markdown",
   "id": "b51f215f-53ef-4b82-8ac7-685d8a2c5086",
   "metadata": {},
   "source": [
    "**적용을 위해 inplace=True를 지정하거나,**"
   ]
  },
  {
   "cell_type": "code",
   "execution_count": null,
   "id": "c69b22be-e0c4-4d6a-b42b-17bb9af31d7e",
   "metadata": {},
   "outputs": [],
   "source": [
    "scientists.drop('Occupation', axis = 1, inplace = True)"
   ]
  },
  {
   "cell_type": "markdown",
   "id": "9fbeb0e9-dc39-4dca-b0b3-bc66fdc4ee23",
   "metadata": {},
   "source": [
    "# 데이터 필터링"
   ]
  },
  {
   "cell_type": "markdown",
   "id": "72f38cc5-2d0a-4fb2-a2a4-c64fbc062b6c",
   "metadata": {},
   "source": [
    "****"
   ]
  },
  {
   "cell_type": "markdown",
   "id": "22ff2db4-2a71-4b87-84a4-47f7d41708a9",
   "metadata": {},
   "source": [
    "## DataFrame"
   ]
  },
  {
   "cell_type": "code",
   "execution_count": null,
   "id": "de257a59-3bf9-4069-8dfb-3d3f2b70502d",
   "metadata": {},
   "outputs": [],
   "source": [
    "scientists.head()"
   ]
  },
  {
   "cell_type": "code",
   "execution_count": null,
   "id": "41eb0254-c08d-4645-a79c-06467d219ba2",
   "metadata": {},
   "outputs": [],
   "source": [
    "# scientists의 평균 나이 이상만 필터링\n",
    "scientists['Age'] > scientists['Age'].mean()"
   ]
  },
  {
   "cell_type": "code",
   "execution_count": null,
   "id": "a44594ea-09f2-4dab-ab12-419a855cd0b0",
   "metadata": {},
   "outputs": [],
   "source": [
    "# 필터링한 값을 데이터프레임 형태로 출력하려면\n",
    "scientists[scientists['Age'] > scientists['Age'].mean()]"
   ]
  },
  {
   "cell_type": "code",
   "execution_count": null,
   "id": "3481f2dc-0703-425a-891f-8a11b6a91447",
   "metadata": {},
   "outputs": [],
   "source": [
    "scientists * 2"
   ]
  },
  {
   "cell_type": "markdown",
   "id": "66b24171-dc89-485e-b48a-0f2937e858d9",
   "metadata": {},
   "source": [
    "## Series"
   ]
  },
  {
   "cell_type": "code",
   "execution_count": null,
   "id": "37b85082-0ef1-4c73-bfd3-bd4e36b7a8e9",
   "metadata": {},
   "outputs": [],
   "source": [
    "ages = scientists['Age']\n",
    "ages"
   ]
  },
  {
   "cell_type": "code",
   "execution_count": null,
   "id": "e942409a-fca0-4c23-aba3-9bc14821062c",
   "metadata": {},
   "outputs": [],
   "source": [
    "# 첫 번째 요소를 불러오려면\n",
    "ages[0]"
   ]
  },
  {
   "cell_type": "code",
   "execution_count": null,
   "id": "a86b6e5d-8180-4789-8221-a49c9370ef5a",
   "metadata": {},
   "outputs": [],
   "source": [
    "# 평균보다 나이가 많은 사람의 데이터 추출\n",
    "ages > ages.mean()"
   ]
  },
  {
   "cell_type": "code",
   "execution_count": null,
   "id": "1f8f288f-5df9-42b1-8669-e9a7a598fef9",
   "metadata": {},
   "outputs": [],
   "source": [
    "# 평균보다 나이가 많은 사람의 데이터 추출\n",
    "ages[ages > ages.mean()]"
   ]
  },
  {
   "cell_type": "code",
   "execution_count": null,
   "id": "7faaa369-08d0-4ad9-8ea9-52367fc84617",
   "metadata": {},
   "outputs": [],
   "source": [
    "# 정렬은 sort_index 함수로\n",
    "ages.sort_index(ascending = False)"
   ]
  },
  {
   "cell_type": "markdown",
   "id": "67fd8a0c-2f9d-4644-9709-68f40e44e65d",
   "metadata": {},
   "source": [
    "# 데이터 추출 연습"
   ]
  },
  {
   "cell_type": "markdown",
   "id": "0d565849-883f-4832-87cb-35f4442aaabf",
   "metadata": {},
   "source": [
    "****"
   ]
  },
  {
   "cell_type": "markdown",
   "id": "000ebe58-c389-467a-a2f3-99ce7ba78d38",
   "metadata": {},
   "source": [
    "**1. gapminder 데이터에서 loc을 활용해 year열을 출력해보세요.**"
   ]
  },
  {
   "cell_type": "code",
   "execution_count": null,
   "id": "df94baf3-7946-4353-97e0-ec911e8db6f8",
   "metadata": {},
   "outputs": [],
   "source": [
    "# 아래에 코드를 작성 후 실행해 보세요.\n",
    "gapminder.loc[:, 'year']"
   ]
  },
  {
   "cell_type": "markdown",
   "id": "74ff6e18-2693-4e66-9906-91a7edb4d0b8",
   "metadata": {},
   "source": [
    "**2. gapminder 데이터에서 loc을 활용해 year, pop열을 출력해보세요**"
   ]
  },
  {
   "cell_type": "code",
   "execution_count": null,
   "id": "66282c6e-ae76-4b32-b793-932d7c815919",
   "metadata": {},
   "outputs": [],
   "source": [
    "# 아래에 코드를 작성 후 실행해 보세요.\n",
    "gapminder.loc[:, ['year', 'pop']].head()"
   ]
  },
  {
   "cell_type": "markdown",
   "id": "54a549ec-694c-4d7a-9616-7e97a739fc77",
   "metadata": {},
   "source": [
    "**3. iloc을 활용해 3번째 열인 year 열을 출력해보세요**"
   ]
  },
  {
   "cell_type": "code",
   "execution_count": null,
   "id": "034f89fa-5b3e-4013-8b64-7800386c1587",
   "metadata": {},
   "outputs": [],
   "source": [
    "# 아래에 코드를 작성 후 실행해 보세요.\n",
    "gapminder.iloc[:, 2]"
   ]
  },
  {
   "cell_type": "markdown",
   "id": "b52d11a9-6449-4c13-8c85-f7bac91f95c8",
   "metadata": {},
   "source": [
    "**4. gapminder 데이터에서 5번째 열의 이름을 확인해보세요**"
   ]
  },
  {
   "cell_type": "code",
   "execution_count": null,
   "id": "fc938c6d-7bec-404b-b5c5-4689729f3f53",
   "metadata": {},
   "outputs": [],
   "source": [
    "# 아래에 코드를 작성 후 실행해 보세요.\n",
    "gapminder.columns[4]"
   ]
  },
  {
   "cell_type": "markdown",
   "id": "da7dcfe4-2c94-429a-9f47-e36b1fb798c8",
   "metadata": {},
   "source": [
    "**5. gapminder 데이터에서 iloc을 활용해 year, pop, gdpPercap 열을 출력해보세요**"
   ]
  },
  {
   "cell_type": "code",
   "execution_count": null,
   "id": "f9e61bd8-c761-426b-afb4-c45af8c2e90e",
   "metadata": {},
   "outputs": [],
   "source": [
    "# 아래에 코드를 작성 후 실행해 보세요.\n",
    "gapminder.iloc[:, [2, 4, -1]]"
   ]
  },
  {
   "cell_type": "markdown",
   "id": "ca5eaa97-3dda-4ae3-a732-d7201237d8f6",
   "metadata": {},
   "source": [
    "**8. gapminder 데이터에서 iloc을 활용해 처음부터 5개의 행, 처음부터 3개의 열을 출력해보세요.**"
   ]
  },
  {
   "cell_type": "code",
   "execution_count": null,
   "id": "fe0e9dbd-2649-4f4f-bc2b-886bfc082f4b",
   "metadata": {},
   "outputs": [],
   "source": [
    "# 아래에 코드를 작성 후 실행해 보세요.\n",
    "gapminder.iloc[:5, :3]"
   ]
  },
  {
   "cell_type": "markdown",
   "id": "1b51efcd-fe54-4f89-aa94-c8725561a4d7",
   "metadata": {},
   "source": [
    "**7. gapminder 데이터에서 iloc을 활용해 6열까지 2개의 간격으로 출력해보세요**"
   ]
  },
  {
   "cell_type": "code",
   "execution_count": null,
   "id": "5534b1e5-686f-4701-801a-8fe6c19885a1",
   "metadata": {},
   "outputs": [],
   "source": [
    "# 아래에 코드를 작성 후 실행해 보세요.\n",
    "gapminder.iloc[:,0:6:2]"
   ]
  },
  {
   "cell_type": "markdown",
   "id": "ca2740b2-5073-4b59-96e5-327def5a836f",
   "metadata": {},
   "source": [
    "**8. iloc을 활용해 0, 99, 999행의 country, lifeExp, gdpPercap 열을 출력해보세요.**"
   ]
  },
  {
   "cell_type": "code",
   "execution_count": null,
   "id": "23d1a17d-0b94-4c46-9d1c-f0ca8809398a",
   "metadata": {},
   "outputs": [],
   "source": [
    "# 아래에 코드를 작성 후 실행해 보세요.\n",
    "gapminder.iloc[[0, 99, 999], [0, 3, 5]]"
   ]
  },
  {
   "cell_type": "markdown",
   "id": "c107cea9-15ec-47fe-876a-ffbb42e5e17c",
   "metadata": {},
   "source": [
    "**9. loc을 활용해 0, 99, 999행의 country, lifeExp, gdpPercap 열을 출력해보세요.**"
   ]
  },
  {
   "cell_type": "code",
   "execution_count": null,
   "id": "3a264f51-8c60-4c54-9f36-feeb5f85e841",
   "metadata": {},
   "outputs": [],
   "source": [
    "# 아래에 코드를 작성 후 실행해 보세요.\n",
    "gapminder.loc[[0, 99, 999], ['country', 'lifeExp', 'gdpPercap']]"
   ]
  },
  {
   "cell_type": "markdown",
   "id": "6898bb53-5eac-4826-8a06-873a230f1485",
   "metadata": {},
   "source": [
    "**10. 인덱스가 10인행부터 13인행의 country, lifeExp, gdpPercap 데이터를 추출해보세요**\n"
   ]
  },
  {
   "cell_type": "code",
   "execution_count": null,
   "id": "ddc41efd-0cb1-40cb-8b0c-43de7dd2c8d7",
   "metadata": {},
   "outputs": [],
   "source": [
    "# 아래에 코드를 작성 후 실행해 보세요.\n",
    "gapminder.loc[[10, 11, 12, 13],\n",
    "       ['country', 'lifeExp', 'gdpPercap']]"
   ]
  },
  {
   "cell_type": "markdown",
   "id": "f09fef03-f40c-4a86-b464-6042219fe7ed",
   "metadata": {},
   "source": [
    "**11. iloc을 활용해 10~13행의 0, 3, 5 열을 출력해보세요.**"
   ]
  },
  {
   "cell_type": "code",
   "execution_count": null,
   "id": "85d68546-5bb6-4151-b240-99525395ddae",
   "metadata": {},
   "outputs": [],
   "source": [
    "# 아래에 코드를 작성 후 실행해 보세요.\n",
    "gapminder.iloc[10:14, [0, 3, 5]]\n",
    "gapminder.iloc[[10, 11, 12, 13], [0, 3, 5]]"
   ]
  }
 ],
 "metadata": {
  "kernelspec": {
   "display_name": "Python 3 (ipykernel)",
   "language": "python",
   "name": "python3"
  },
  "language_info": {
   "codemirror_mode": {
    "name": "ipython",
    "version": 3
   },
   "file_extension": ".py",
   "mimetype": "text/x-python",
   "name": "python",
   "nbconvert_exporter": "python",
   "pygments_lexer": "ipython3",
   "version": "3.10.9"
  },
  "toc-autonumbering": false
 },
 "nbformat": 4,
 "nbformat_minor": 5
}
